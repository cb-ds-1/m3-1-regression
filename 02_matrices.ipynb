{
 "cells": [
  {
   "cell_type": "markdown",
   "metadata": {},
   "source": [
    "# Matrices\n",
    "\n",
    "Matrices are a neat way of organizing data for use in linear operations.\n",
    "\n",
    "An $ n \\times k $ matrix is a rectangular array $ A $ of numbers with $ n $ rows and $ k $ columns:\n",
    "\n",
    "$$\n",
    "A =\n",
    "\\begin{bmatrix}\n",
    "    a_{11} & a_{12} & \\cdots & a_{1k} \\\\\n",
    "    a_{21} & a_{22} & \\cdots & a_{2k} \\\\\n",
    "    \\vdots & \\vdots &  & \\vdots \\\\\n",
    "    a_{n1} & a_{n2} & \\cdots & a_{nk}\n",
    "\\end{bmatrix}\n",
    "$$\n",
    "\n",
    "Often, the numbers in the matrix represent things in the real world like\n",
    "\n",
    "- coefficients in a system of equations.\n",
    "\n",
    "- rows being observations, columns being attributes of these observations (a dataframe)\n",
    "\n",
    "For obvious reasons, the matrix $ A $ is also called a vector if either $ n = 1 $ or $ k = 1 $.\n",
    "\n",
    "In the former case, $ A $ is called a *row vector*, while in the latter it is called a *column vector*.\n",
    "\n",
    "If $ n = k $, then $ A $ is called *square*.\n",
    "\n",
    "The matrix formed by replacing $ a_{ij} $ by $ a_{ji} $ for every $ i $ and $ j $ is called the *transpose* of $ A $ and denoted $ A' $ or $ A^{\\top} $.\n",
    "\n",
    "If $ A = A' $, then $ A $ is called *symmetric*.\n",
    "\n",
    "For a square matrix $ A $, the $ i $ elements of the form $ a_{ii} $ for $ i=1,\\ldots,n $ are called the *principal diagonal*.\n",
    "\n",
    "$ A $ is called *diagonal* if the only nonzero entries are on the principal diagonal.\n",
    "\n",
    "If, in addition to being diagonal, each element along the principal diagonal is equal to 1, then $ A $ is called the *identity matrix* and denoted by $ I $."
   ]
  },
  {
   "cell_type": "markdown",
   "metadata": {},
   "source": [
    "### Matrix Operations\n",
    "\n",
    "Just as was the case for vectors, a number of algebraic operations are defined for matrices.\n",
    "\n",
    "Scalar multiplication and addition are immediate generalizations of the vector case:\n",
    "\n",
    "$$\n",
    "\\gamma A =\n",
    "\\gamma\n",
    "\\begin{bmatrix}\n",
    "    a_{11} &  \\cdots & a_{1k} \\\\\n",
    "    \\vdots & \\vdots  & \\vdots \\\\\n",
    "    a_{n1} &  \\cdots & a_{nk}\n",
    "\\end{bmatrix} :=\n",
    "\\begin{bmatrix}\n",
    "    \\gamma a_{11} & \\cdots & \\gamma a_{1k} \\\\\n",
    "    \\vdots & \\vdots & \\vdots \\\\\n",
    "    \\gamma a_{n1} & \\cdots & \\gamma a_{nk}\n",
    "\\end{bmatrix}\n",
    "$$\n",
    "\n",
    "and\n",
    "\n",
    "$$\n",
    "A + B =\n",
    "\\begin{bmatrix}\n",
    "    a_{11} & \\cdots & a_{1k} \\\\\n",
    "    \\vdots & \\vdots & \\vdots \\\\\n",
    "    a_{n1} & \\cdots & a_{nk}\n",
    "\\end{bmatrix} +\n",
    "\\begin{bmatrix}\n",
    "    b_{11} & \\cdots & b_{1k} \\\\\n",
    "    \\vdots & \\vdots & \\vdots \\\\\n",
    "    b_{n1} & \\cdots & b_{nk}\n",
    "\\end{bmatrix} :=\n",
    "\\begin{bmatrix}\n",
    "    a_{11} + b_{11} &  \\cdots & a_{1k} + b_{1k} \\\\\n",
    "    \\vdots & \\vdots & \\vdots \\\\\n",
    "    a_{n1} + b_{n1} &  \\cdots & a_{nk} + b_{nk}\n",
    "\\end{bmatrix}\n",
    "$$\n",
    "\n",
    "In the latter case, the matrices must have the same shape in order for the definition to make sense.\n",
    "\n",
    "# Multiplication\n",
    "\n",
    "We also have a convention for *multiplying* two matrices.\n",
    "\n",
    "The rule for matrix multiplication generalizes the idea of dot products discussed in vector algebra\n",
    "and is designed to make multiplication play well with basic linear operations.\n",
    "\n",
    "If $ A $ and $ B $ are two matrices, then their product $ A B $ is formed by taking as its\n",
    "$ i,j $-th element the dot product of the $ i $-th row of $ A $ and the\n",
    "$ j $-th column of $ B $.\n",
    "\n",
    "The [Wikipedia page](https://en.wikipedia.org/wiki/Matrix_multiplication) can help sort it, as well as this diagram:\n",
    "\n",
    "![](matrix_dot.png)\n",
    "\n",
    "If $ A $ is $ n \\times k $ and $ B $ is $ j \\times m $, then\n",
    "to multiply $ A $ and $ B $ we require $ k = j $, and the\n",
    "resulting matrix $ A B $ is $ n \\times m $.\n",
    "\n",
    "**memory trick**: Dot product is *joined on the inside dimensions* so $ n \\times (k \\cdot j) \\times m $\n",
    "\n",
    "As perhaps the most important special case, consider multiplying $ n \\times k $ matrix $ A $ and $ k \\times 1 $ column vector $ x $.\n",
    "\n",
    "According to the preceding rule, this gives us an $ n \\times 1 $ column vector\n",
    "\n",
    "\n",
    "<a id='equation-la-atx'></a>\n",
    "$$\n",
    "A x =\n",
    "\\begin{bmatrix}\n",
    "    a_{11} &  \\cdots & a_{1k} \\\\\n",
    "    \\vdots & \\vdots  & \\vdots \\\\\n",
    "    a_{n1} &  \\cdots & a_{nk}\n",
    "\\end{bmatrix}\n",
    "\\begin{bmatrix}\n",
    "    x_{1}  \\\\\n",
    "    \\vdots  \\\\\n",
    "    x_{k}\n",
    "\\end{bmatrix} :=\n",
    "\\begin{bmatrix}\n",
    "    a_{11} x_1 + \\cdots + a_{1k} x_k \\\\\n",
    "    \\vdots \\\\\n",
    "    a_{n1} x_1 + \\cdots + a_{nk} x_k\n",
    "\\end{bmatrix} \\tag{2}\n",
    "$$\n",
    "\n",
    ">**Note**\n",
    ">\n",
    ">$ A B $ and $ B A $ are not generally the same thing.\n",
    "\n",
    "Another important special case is the identity matrix.\n",
    "\n",
    "You should check that if $ A $ is $ n \\times k $ and $ I $ is the $ k \\times k $ identity matrix, then $ AI = A $.\n",
    "\n",
    "If $ I $ is the $ n \\times n $ identity matrix, then $ IA = A $."
   ]
  },
  {
   "cell_type": "code",
   "execution_count": 18,
   "metadata": {},
   "outputs": [
    {
     "output_type": "execute_result",
     "data": {
      "text/plain": [
       "array([[ 58,  64],\n",
       "       [139, 154]])"
      ]
     },
     "metadata": {},
     "execution_count": 18
    }
   ],
   "source": [
    "A = np.array([[1,2,3],[4,5,6]])\n",
    "B = np.array([[7,8],[9,10],[11,12]])\n",
    "np.dot(A,B)"
   ]
  },
  {
   "cell_type": "markdown",
   "metadata": {},
   "source": [
    "### Matrices in NumPy\n",
    "\n",
    "\n",
    "<a id='index-10'></a>\n",
    "NumPy arrays are also used as matrices, and have fast, efficient functions and methods for all the standard matrix operations <sup><a href=#fn-mdt id=fn-mdt-link>[1]</a></sup>.\n",
    "\n",
    "You can create them manually from tuples of tuples (or lists of lists) as follows"
   ]
  },
  {
   "cell_type": "code",
   "execution_count": 1,
   "metadata": {
    "hide-output": false
   },
   "outputs": [
    {
     "output_type": "execute_result",
     "data": {
      "text/plain": "list"
     },
     "metadata": {},
     "execution_count": 1
    }
   ],
   "source": [
    "A = [(1, 2),\n",
    "     (3, 4)]\n",
    "\n",
    "type(A)"
   ]
  },
  {
   "cell_type": "code",
   "execution_count": 2,
   "metadata": {
    "hide-output": false
   },
   "outputs": [
    {
     "output_type": "stream",
     "name": "stdout",
     "text": "shape (2, 2)\n"
    },
    {
     "output_type": "execute_result",
     "data": {
      "text/plain": "array([[1, 2],\n       [3, 4]])"
     },
     "metadata": {},
     "execution_count": 2
    }
   ],
   "source": [
    "import numpy as np\n",
    "\n",
    "A = np.array(A)\n",
    "\n",
    "print(\"shape\", A.shape)\n",
    "A"
   ]
  },
  {
   "cell_type": "markdown",
   "metadata": {},
   "source": [
    "The `shape` attribute is a tuple giving the number of rows and columns —\n",
    "see [here](https://python-programming.quantecon.org/numpy.html#shape-and-dimension)\n",
    "for more discussion.\n",
    "\n",
    "To get the transpose of `A`, use `A.transpose()` or, more simply, `A.T`.\n",
    "\n",
    "There are many convenient functions for creating common matrices (matrices of zeros,\n",
    "ones, etc.) — see [here](https://python-programming.quantecon.org/numpy.html#creating-arrays).\n",
    "\n",
    "Since operations are performed elementwise by default, scalar multiplication and addition have very natural syntax"
   ]
  },
  {
   "cell_type": "code",
   "execution_count": 3,
   "metadata": {
    "hide-output": false
   },
   "outputs": [
    {
     "output_type": "execute_result",
     "data": {
      "text/plain": "array([[2., 0., 0.],\n       [0., 2., 0.],\n       [0., 0., 2.]])"
     },
     "metadata": {},
     "execution_count": 3
    }
   ],
   "source": [
    "A = np.identity(3)\n",
    "B = np.ones((3, 3))\n",
    "2 * A"
   ]
  },
  {
   "cell_type": "code",
   "execution_count": 4,
   "metadata": {
    "hide-output": false
   },
   "outputs": [
    {
     "output_type": "execute_result",
     "data": {
      "text/plain": "array([[2., 1., 1.],\n       [1., 2., 1.],\n       [1., 1., 2.]])"
     },
     "metadata": {},
     "execution_count": 4
    }
   ],
   "source": [
    "A + B"
   ]
  },
  {
   "cell_type": "markdown",
   "metadata": {},
   "source": [
    "To multiply matrices we use the `@` symbol.\n",
    "\n",
    "In particular, `A @ B` is matrix multiplication, whereas `A * B` is element-by-element multiplication.\n",
    "\n",
    "See [here](https://python-programming.quantecon.org/numpy.html#matrix-multiplication) for more discussion.\n",
    "\n",
    "\n",
    "<a id='la-linear-map'></a>"
   ]
  },
  {
   "cell_type": "markdown",
   "metadata": {},
   "source": [
    "### Matrices as Maps\n",
    "\n",
    "\n",
    "<a id='index-11'></a>\n",
    "Each $ n \\times k $ matrix $ A $ can be identified with a function $ f(x) = Ax $ that maps $ x \\in \\mathbb R ^k $ into $ y = Ax \\in \\mathbb R ^n $.\n",
    "\n",
    "These kinds of functions have a special property: they are *linear*.\n",
    "\n",
    "A function $ f \\colon \\mathbb R ^k \\to \\mathbb R ^n $ is called *linear* if, for all $ x, y \\in \\mathbb R ^k $ and all scalars $ \\alpha, \\beta $, we have\n",
    "\n",
    "$$\n",
    "f(\\alpha x + \\beta y) = \\alpha f(x) + \\beta f(y)\n",
    "$$\n",
    "\n",
    "You can check that this holds for the function $ f(x) = A x + b $ when $ b $ is the zero vector and fails when $ b $ is nonzero.\n",
    "\n",
    "In fact, it’s [known](https://en.wikipedia.org/wiki/Linear_map#Matrices) that $ f $ is linear if and *only if* there exists a matrix $ A $ such that $ f(x) = Ax $ for all $ x $."
   ]
  },
  {
   "cell_type": "markdown",
   "metadata": {},
   "source": [
    "## Motivating example: Back To Polynomials\n",
    "\n",
    "Representing polynomials as vectors is powerful when we want to solve multiple equations at the same time. For instance if we have the following equations:\n",
    "\n",
    "$3x + 2y - z = 1$  \n",
    "$2x - 2y + 4z = -2$  \n",
    "$-x + 0.5y - z = 0$  \n",
    "\n",
    "The **solution** would be \n",
    "\n",
    "$$x=1; y=-2; z=-2$$\n",
    "\n",
    "We can rearrange the problem as a matrix problem with the equations matrix on the left and the solution vector on the right:\n",
    "\n",
    "$$\n",
    "\\begin{bmatrix} \n",
    "3x & 2y & -1z\n",
    "\\\\ 2x & -2y & 4z\n",
    "\\\\ -1x & 0.5y & -1z\n",
    "\\end{bmatrix}\n",
    "=\n",
    "\\begin{bmatrix} 1\\\\ -2\\\\ 0 \\end{bmatrix}\n",
    "$$\n",
    "\n",
    "Which can be rearranged as:\n",
    "\n",
    "$$\n",
    "\\begin{bmatrix} \n",
    "3 & 2 & -1\n",
    "\\\\ 2 & -2 & 4\n",
    "\\\\ -1 & 0.5 & -1\n",
    "\\end{bmatrix}\n",
    "\\cdot\n",
    "\\begin{bmatrix} x\\\\ y\\\\ z \\end{bmatrix}\n",
    "=\n",
    "\\begin{bmatrix} 1\\\\ -2\\\\ 0 \\end{bmatrix}\n",
    "$$\n",
    "\n",
    "One thing to note is that for $n$ equations with $n$ unknowns we can generally solve for the unknowns.\n",
    "\n",
    "![](3_equation_graph.png)\n",
    "\n",
    "The problem we face is to determine a vector $ x \\in \\mathbb R ^k $ that solves the equation problem, taking $ y $ and $ A $ as given.\n",
    "\n",
    "This is a special case of a more general problem: Find an $ x $ such that $ y = f(x) $.\n",
    "\n",
    "Given an arbitrary function $ f $ and a $ y $, is there always an $ x $ such that $ y = f(x) $?\n",
    "\n",
    "If so, is it always unique?\n",
    "\n",
    "The answer to both these questions is negative, as the next figure shows"
   ]
  },
  {
   "cell_type": "code",
   "execution_count": 5,
   "metadata": {},
   "outputs": [
    {
     "output_type": "execute_result",
     "data": {
      "text/plain": [
       "array([ 1., -2., -2.])"
      ]
     },
     "metadata": {},
     "execution_count": 5
    }
   ],
   "source": [
    "import numpy as np\n",
    "C = np.array([[3,2,-1],[2,-2,4],[-1,0.5,-1]])\n",
    "Y = [1,-2,0]\n",
    "\n",
    "\n",
    "X = np.linalg.inv(C).dot(Y)\n",
    "X"
   ]
  },
  {
   "cell_type": "code",
   "execution_count": 6,
   "metadata": {
    "hide-output": false,
    "html-class": "collapse"
   },
   "outputs": [
    {
     "output_type": "display_data",
     "data": {
      "text/plain": "<Figure size 720x720 with 2 Axes>",
      "image/svg+xml": "<?xml version=\"1.0\" encoding=\"utf-8\" standalone=\"no\"?>\r\n<!DOCTYPE svg PUBLIC \"-//W3C//DTD SVG 1.1//EN\"\r\n  \"http://www.w3.org/Graphics/SVG/1.1/DTD/svg11.dtd\">\r\n<!-- Created with matplotlib (https://matplotlib.org/) -->\r\n<svg height=\"558pt\" version=\"1.1\" viewBox=\"0 0 572.4 558\" width=\"572.4pt\" xmlns=\"http://www.w3.org/2000/svg\" xmlns:xlink=\"http://www.w3.org/1999/xlink\">\r\n <defs>\r\n  <style type=\"text/css\">\r\n*{stroke-linecap:butt;stroke-linejoin:round;}\r\n  </style>\r\n </defs>\r\n <g id=\"figure_1\">\r\n  <g id=\"patch_1\">\r\n   <path d=\"M 0 558 \r\nL 572.4 558 \r\nL 572.4 0 \r\nL 0 0 \r\nz\r\n\" style=\"fill:none;\"/>\r\n  </g>\r\n  <g id=\"axes_1\">\r\n   <g id=\"patch_2\">\r\n    <path d=\"M 7.2 254.290909 \r\nL 565.2 254.290909 \r\nL 565.2 7.2 \r\nL 7.2 7.2 \r\nz\r\n\" style=\"fill:#ffffff;\"/>\r\n   </g>\r\n   <g id=\"PolyCollection_1\">\r\n    <path clip-path=\"url(#p3d9f72ebde)\" d=\"M 7.2 85.241053 \r\nL 7.2 163.257233 \r\nL 10.709434 163.257233 \r\nL 14.218868 163.257233 \r\nL 17.728302 163.257233 \r\nL 21.237736 163.257233 \r\nL 24.74717 163.257233 \r\nL 28.256604 163.257233 \r\nL 31.766038 163.257233 \r\nL 35.275472 163.257233 \r\nL 38.784906 163.257233 \r\nL 42.29434 163.257233 \r\nL 45.803774 163.257233 \r\nL 49.313208 163.257233 \r\nL 52.822642 163.257233 \r\nL 56.332075 163.257233 \r\nL 59.841509 163.257233 \r\nL 63.350943 163.257233 \r\nL 66.860377 163.257233 \r\nL 70.369811 163.257233 \r\nL 73.879245 163.257233 \r\nL 77.388679 163.257233 \r\nL 80.898113 163.257233 \r\nL 84.407547 163.257233 \r\nL 87.916981 163.257233 \r\nL 91.426415 163.257233 \r\nL 94.935849 163.257233 \r\nL 98.445283 163.257233 \r\nL 101.954717 163.257233 \r\nL 105.464151 163.257233 \r\nL 108.973585 163.257233 \r\nL 112.483019 163.257233 \r\nL 115.992453 163.257233 \r\nL 119.501887 163.257233 \r\nL 123.011321 163.257233 \r\nL 126.520755 163.257233 \r\nL 130.030189 163.257233 \r\nL 133.539623 163.257233 \r\nL 137.049057 163.257233 \r\nL 140.558491 163.257233 \r\nL 144.067925 163.257233 \r\nL 147.577358 163.257233 \r\nL 151.086792 163.257233 \r\nL 154.596226 163.257233 \r\nL 158.10566 163.257233 \r\nL 161.615094 163.257233 \r\nL 165.124528 163.257233 \r\nL 168.633962 163.257233 \r\nL 172.143396 163.257233 \r\nL 175.65283 163.257233 \r\nL 179.162264 163.257233 \r\nL 182.671698 163.257233 \r\nL 186.181132 163.257233 \r\nL 189.690566 163.257233 \r\nL 193.2 163.257233 \r\nL 196.709434 163.257233 \r\nL 200.218868 163.257233 \r\nL 203.728302 163.257233 \r\nL 207.237736 163.257233 \r\nL 210.74717 163.257233 \r\nL 214.256604 163.257233 \r\nL 217.766038 163.257233 \r\nL 221.275472 163.257233 \r\nL 224.784906 163.257233 \r\nL 228.29434 163.257233 \r\nL 231.803774 163.257233 \r\nL 235.313208 163.257233 \r\nL 238.822642 163.257233 \r\nL 242.332075 163.257233 \r\nL 245.841509 163.257233 \r\nL 249.350943 163.257233 \r\nL 252.860377 163.257233 \r\nL 256.369811 163.257233 \r\nL 259.879245 163.257233 \r\nL 263.388679 163.257233 \r\nL 266.898113 163.257233 \r\nL 270.407547 163.257233 \r\nL 273.916981 163.257233 \r\nL 277.426415 163.257233 \r\nL 280.935849 163.257233 \r\nL 284.445283 163.257233 \r\nL 287.954717 163.257233 \r\nL 291.464151 163.257233 \r\nL 294.973585 163.257233 \r\nL 298.483019 163.257233 \r\nL 301.992453 163.257233 \r\nL 305.501887 163.257233 \r\nL 309.011321 163.257233 \r\nL 312.520755 163.257233 \r\nL 316.030189 163.257233 \r\nL 319.539623 163.257233 \r\nL 323.049057 163.257233 \r\nL 326.558491 163.257233 \r\nL 330.067925 163.257233 \r\nL 333.577358 163.257233 \r\nL 337.086792 163.257233 \r\nL 340.596226 163.257233 \r\nL 344.10566 163.257233 \r\nL 347.615094 163.257233 \r\nL 351.124528 163.257233 \r\nL 354.633962 163.257233 \r\nL 358.143396 163.257233 \r\nL 361.65283 163.257233 \r\nL 365.162264 163.257233 \r\nL 368.671698 163.257233 \r\nL 372.181132 163.257233 \r\nL 375.690566 163.257233 \r\nL 379.2 163.257233 \r\nL 382.709434 163.257233 \r\nL 386.218868 163.257233 \r\nL 389.728302 163.257233 \r\nL 393.237736 163.257233 \r\nL 396.74717 163.257233 \r\nL 400.256604 163.257233 \r\nL 403.766038 163.257233 \r\nL 407.275472 163.257233 \r\nL 410.784906 163.257233 \r\nL 414.29434 163.257233 \r\nL 417.803774 163.257233 \r\nL 421.313208 163.257233 \r\nL 424.822642 163.257233 \r\nL 428.332075 163.257233 \r\nL 431.841509 163.257233 \r\nL 435.350943 163.257233 \r\nL 438.860377 163.257233 \r\nL 442.369811 163.257233 \r\nL 445.879245 163.257233 \r\nL 449.388679 163.257233 \r\nL 452.898113 163.257233 \r\nL 456.407547 163.257233 \r\nL 459.916981 163.257233 \r\nL 463.426415 163.257233 \r\nL 466.935849 163.257233 \r\nL 470.445283 163.257233 \r\nL 473.954717 163.257233 \r\nL 477.464151 163.257233 \r\nL 480.973585 163.257233 \r\nL 484.483019 163.257233 \r\nL 487.992453 163.257233 \r\nL 491.501887 163.257233 \r\nL 495.011321 163.257233 \r\nL 498.520755 163.257233 \r\nL 502.030189 163.257233 \r\nL 505.539623 163.257233 \r\nL 509.049057 163.257233 \r\nL 512.558491 163.257233 \r\nL 516.067925 163.257233 \r\nL 519.577358 163.257233 \r\nL 523.086792 163.257233 \r\nL 526.596226 163.257233 \r\nL 530.10566 163.257233 \r\nL 533.615094 163.257233 \r\nL 537.124528 163.257233 \r\nL 540.633962 163.257233 \r\nL 544.143396 163.257233 \r\nL 547.65283 163.257233 \r\nL 551.162264 163.257233 \r\nL 554.671698 163.257233 \r\nL 558.181132 163.257233 \r\nL 561.690566 163.257233 \r\nL 565.2 163.257233 \r\nL 565.2 85.241053 \r\nL 565.2 85.241053 \r\nL 561.690566 85.241053 \r\nL 558.181132 85.241053 \r\nL 554.671698 85.241053 \r\nL 551.162264 85.241053 \r\nL 547.65283 85.241053 \r\nL 544.143396 85.241053 \r\nL 540.633962 85.241053 \r\nL 537.124528 85.241053 \r\nL 533.615094 85.241053 \r\nL 530.10566 85.241053 \r\nL 526.596226 85.241053 \r\nL 523.086792 85.241053 \r\nL 519.577358 85.241053 \r\nL 516.067925 85.241053 \r\nL 512.558491 85.241053 \r\nL 509.049057 85.241053 \r\nL 505.539623 85.241053 \r\nL 502.030189 85.241053 \r\nL 498.520755 85.241053 \r\nL 495.011321 85.241053 \r\nL 491.501887 85.241053 \r\nL 487.992453 85.241053 \r\nL 484.483019 85.241053 \r\nL 480.973585 85.241053 \r\nL 477.464151 85.241053 \r\nL 473.954717 85.241053 \r\nL 470.445283 85.241053 \r\nL 466.935849 85.241053 \r\nL 463.426415 85.241053 \r\nL 459.916981 85.241053 \r\nL 456.407547 85.241053 \r\nL 452.898113 85.241053 \r\nL 449.388679 85.241053 \r\nL 445.879245 85.241053 \r\nL 442.369811 85.241053 \r\nL 438.860377 85.241053 \r\nL 435.350943 85.241053 \r\nL 431.841509 85.241053 \r\nL 428.332075 85.241053 \r\nL 424.822642 85.241053 \r\nL 421.313208 85.241053 \r\nL 417.803774 85.241053 \r\nL 414.29434 85.241053 \r\nL 410.784906 85.241053 \r\nL 407.275472 85.241053 \r\nL 403.766038 85.241053 \r\nL 400.256604 85.241053 \r\nL 396.74717 85.241053 \r\nL 393.237736 85.241053 \r\nL 389.728302 85.241053 \r\nL 386.218868 85.241053 \r\nL 382.709434 85.241053 \r\nL 379.2 85.241053 \r\nL 375.690566 85.241053 \r\nL 372.181132 85.241053 \r\nL 368.671698 85.241053 \r\nL 365.162264 85.241053 \r\nL 361.65283 85.241053 \r\nL 358.143396 85.241053 \r\nL 354.633962 85.241053 \r\nL 351.124528 85.241053 \r\nL 347.615094 85.241053 \r\nL 344.10566 85.241053 \r\nL 340.596226 85.241053 \r\nL 337.086792 85.241053 \r\nL 333.577358 85.241053 \r\nL 330.067925 85.241053 \r\nL 326.558491 85.241053 \r\nL 323.049057 85.241053 \r\nL 319.539623 85.241053 \r\nL 316.030189 85.241053 \r\nL 312.520755 85.241053 \r\nL 309.011321 85.241053 \r\nL 305.501887 85.241053 \r\nL 301.992453 85.241053 \r\nL 298.483019 85.241053 \r\nL 294.973585 85.241053 \r\nL 291.464151 85.241053 \r\nL 287.954717 85.241053 \r\nL 284.445283 85.241053 \r\nL 280.935849 85.241053 \r\nL 277.426415 85.241053 \r\nL 273.916981 85.241053 \r\nL 270.407547 85.241053 \r\nL 266.898113 85.241053 \r\nL 263.388679 85.241053 \r\nL 259.879245 85.241053 \r\nL 256.369811 85.241053 \r\nL 252.860377 85.241053 \r\nL 249.350943 85.241053 \r\nL 245.841509 85.241053 \r\nL 242.332075 85.241053 \r\nL 238.822642 85.241053 \r\nL 235.313208 85.241053 \r\nL 231.803774 85.241053 \r\nL 228.29434 85.241053 \r\nL 224.784906 85.241053 \r\nL 221.275472 85.241053 \r\nL 217.766038 85.241053 \r\nL 214.256604 85.241053 \r\nL 210.74717 85.241053 \r\nL 207.237736 85.241053 \r\nL 203.728302 85.241053 \r\nL 200.218868 85.241053 \r\nL 196.709434 85.241053 \r\nL 193.2 85.241053 \r\nL 189.690566 85.241053 \r\nL 186.181132 85.241053 \r\nL 182.671698 85.241053 \r\nL 179.162264 85.241053 \r\nL 175.65283 85.241053 \r\nL 172.143396 85.241053 \r\nL 168.633962 85.241053 \r\nL 165.124528 85.241053 \r\nL 161.615094 85.241053 \r\nL 158.10566 85.241053 \r\nL 154.596226 85.241053 \r\nL 151.086792 85.241053 \r\nL 147.577358 85.241053 \r\nL 144.067925 85.241053 \r\nL 140.558491 85.241053 \r\nL 137.049057 85.241053 \r\nL 133.539623 85.241053 \r\nL 130.030189 85.241053 \r\nL 126.520755 85.241053 \r\nL 123.011321 85.241053 \r\nL 119.501887 85.241053 \r\nL 115.992453 85.241053 \r\nL 112.483019 85.241053 \r\nL 108.973585 85.241053 \r\nL 105.464151 85.241053 \r\nL 101.954717 85.241053 \r\nL 98.445283 85.241053 \r\nL 94.935849 85.241053 \r\nL 91.426415 85.241053 \r\nL 87.916981 85.241053 \r\nL 84.407547 85.241053 \r\nL 80.898113 85.241053 \r\nL 77.388679 85.241053 \r\nL 73.879245 85.241053 \r\nL 70.369811 85.241053 \r\nL 66.860377 85.241053 \r\nL 63.350943 85.241053 \r\nL 59.841509 85.241053 \r\nL 56.332075 85.241053 \r\nL 52.822642 85.241053 \r\nL 49.313208 85.241053 \r\nL 45.803774 85.241053 \r\nL 42.29434 85.241053 \r\nL 38.784906 85.241053 \r\nL 35.275472 85.241053 \r\nL 31.766038 85.241053 \r\nL 28.256604 85.241053 \r\nL 24.74717 85.241053 \r\nL 21.237736 85.241053 \r\nL 17.728302 85.241053 \r\nL 14.218868 85.241053 \r\nL 10.709434 85.241053 \r\nL 7.2 85.241053 \r\nz\r\n\" style=\"fill:#0000ff;fill-opacity:0.05;\"/>\r\n   </g>\r\n   <g id=\"matplotlib.axis_1\"/>\r\n   <g id=\"matplotlib.axis_2\"/>\r\n   <g id=\"LineCollection_1\">\r\n    <path clip-path=\"url(#p3d9f72ebde)\" d=\"M 286.2 163.257233 \r\nL 286.2 85.241053 \r\n\" style=\"fill:none;stroke:#0000ff;stroke-width:3;\"/>\r\n   </g>\r\n   <g id=\"LineCollection_2\">\r\n    <path clip-path=\"url(#p3d9f72ebde)\" d=\"M 188.55 215.276555 \r\nL 188.55 117.611904 \r\n\" style=\"fill:none;stroke:#000000;stroke-dasharray:5.55,2.4;stroke-dashoffset:0;stroke-opacity:0.5;stroke-width:1.5;\"/>\r\n   </g>\r\n   <g id=\"LineCollection_3\">\r\n    <path clip-path=\"url(#p3d9f72ebde)\" d=\"M 383.85 215.276555 \r\nL 383.85 117.611904 \r\n\" style=\"fill:none;stroke:#000000;stroke-dasharray:5.55,2.4;stroke-dashoffset:0;stroke-opacity:0.5;stroke-width:1.5;\"/>\r\n   </g>\r\n   <g id=\"line2d_1\">\r\n    <path clip-path=\"url(#p3d9f72ebde)\" d=\"M 7.2 149.744546 \r\nL 14.218868 152.581712 \r\nL 21.237736 155.132159 \r\nL 28.256604 157.37008 \r\nL 35.275472 159.272835 \r\nL 42.29434 160.821171 \r\nL 49.313208 161.999422 \r\nL 56.332075 162.795669 \r\nL 63.350943 163.201854 \r\nL 70.369811 163.213868 \r\nL 77.388679 162.831589 \r\nL 84.407547 162.058886 \r\nL 91.426415 160.903576 \r\nL 98.445283 159.377348 \r\nL 105.464151 157.495643 \r\nL 112.483019 155.277502 \r\nL 119.501887 152.745365 \r\nL 126.520755 149.924852 \r\nL 133.539623 146.844499 \r\nL 140.558491 143.535474 \r\nL 147.577358 140.031255 \r\nL 158.10566 134.486947 \r\nL 172.143396 126.754777 \r\nL 193.2 115.06542 \r\nL 203.728302 109.467781 \r\nL 210.74717 105.915113 \r\nL 217.766038 102.547882 \r\nL 224.784906 99.400155 \r\nL 231.803774 96.503779 \r\nL 238.822642 93.888059 \r\nL 245.841509 91.57946 \r\nL 252.860377 89.60134 \r\nL 259.879245 87.973712 \r\nL 266.898113 86.713044 \r\nL 273.916981 85.832092 \r\nL 280.935849 85.339768 \r\nL 287.954717 85.241053 \r\nL 294.973585 85.536947 \r\nL 301.992453 86.224455 \r\nL 309.011321 87.296622 \r\nL 316.030189 88.7426 \r\nL 323.049057 90.547758 \r\nL 330.067925 92.693834 \r\nL 337.086792 95.159113 \r\nL 344.10566 97.918653 \r\nL 351.124528 100.944534 \r\nL 358.143396 104.206141 \r\nL 365.162264 107.670474 \r\nL 375.690566 113.169939 \r\nL 389.728302 120.871766 \r\nL 414.29434 134.486947 \r\nL 424.822642 140.031255 \r\nL 431.841509 143.535474 \r\nL 438.860377 146.844499 \r\nL 445.879245 149.924852 \r\nL 452.898113 152.745365 \r\nL 459.916981 155.277502 \r\nL 466.935849 157.495643 \r\nL 473.954717 159.377348 \r\nL 480.973585 160.903576 \r\nL 487.992453 162.058886 \r\nL 495.011321 162.831589 \r\nL 502.030189 163.213868 \r\nL 509.049057 163.201854 \r\nL 516.067925 162.795669 \r\nL 523.086792 161.999422 \r\nL 530.10566 160.821171 \r\nL 537.124528 159.272835 \r\nL 544.143396 157.37008 \r\nL 551.162264 155.132159 \r\nL 558.181132 152.581712 \r\nL 565.2 149.744546 \r\nL 565.2 149.744546 \r\n\" style=\"fill:none;stroke:#000000;stroke-linecap:square;stroke-width:2;\"/>\r\n   </g>\r\n   <g id=\"line2d_2\">\r\n    <path clip-path=\"url(#p3d9f72ebde)\" d=\"M 7.2 117.74067 \r\nL 565.2 117.74067 \r\nL 565.2 117.74067 \r\n\" style=\"fill:none;stroke:#000000;stroke-dasharray:5.55,2.4;stroke-dashoffset:0;stroke-opacity:0.5;stroke-width:1.5;\"/>\r\n   </g>\r\n   <g id=\"patch_3\">\r\n    <path d=\"M 286.2 254.290909 \r\nL 286.2 7.2 \r\n\" style=\"fill:none;stroke:#000000;stroke-linecap:square;stroke-linejoin:miter;stroke-width:0.8;\"/>\r\n   </g>\r\n   <g id=\"patch_4\">\r\n    <path d=\"M 565.2 254.290909 \r\nL 565.2 7.2 \r\n\" style=\"fill:none;\"/>\r\n   </g>\r\n   <g id=\"patch_5\">\r\n    <path d=\"M 7.2 215.276555 \r\nL 565.2 215.276555 \r\n\" style=\"fill:none;stroke:#000000;stroke-linecap:square;stroke-linejoin:miter;stroke-width:0.8;\"/>\r\n   </g>\r\n   <g id=\"patch_6\">\r\n    <path d=\"M 7.2 7.2 \r\nL 565.2 7.2 \r\n\" style=\"fill:none;\"/>\r\n   </g>\r\n   <g id=\"text_1\">\r\n    <!-- $0$ -->\r\n    <defs>\r\n     <path d=\"M 31.78125 66.40625 \r\nQ 24.171875 66.40625 20.328125 58.90625 \r\nQ 16.5 51.421875 16.5 36.375 \r\nQ 16.5 21.390625 20.328125 13.890625 \r\nQ 24.171875 6.390625 31.78125 6.390625 \r\nQ 39.453125 6.390625 43.28125 13.890625 \r\nQ 47.125 21.390625 47.125 36.375 \r\nQ 47.125 51.421875 43.28125 58.90625 \r\nQ 39.453125 66.40625 31.78125 66.40625 \r\nz\r\nM 31.78125 74.21875 \r\nQ 44.046875 74.21875 50.515625 64.515625 \r\nQ 56.984375 54.828125 56.984375 36.375 \r\nQ 56.984375 17.96875 50.515625 8.265625 \r\nQ 44.046875 -1.421875 31.78125 -1.421875 \r\nQ 19.53125 -1.421875 13.0625 8.265625 \r\nQ 6.59375 17.96875 6.59375 36.375 \r\nQ 6.59375 54.828125 13.0625 64.515625 \r\nQ 19.53125 74.21875 31.78125 74.21875 \r\nz\r\n\" id=\"DejaVuSans-48\"/>\r\n    </defs>\r\n    <g transform=\"translate(297.36 234.783732)scale(0.16 -0.16)\">\r\n     <use transform=\"translate(0 0.78125)\" xlink:href=\"#DejaVuSans-48\"/>\r\n    </g>\r\n   </g>\r\n   <g id=\"text_2\">\r\n    <!-- $y$ -->\r\n    <defs>\r\n     <path d=\"M 24.8125 -5.078125 \r\nQ 18.5625 -15.578125 14.625 -18.1875 \r\nQ 10.6875 -20.796875 4.59375 -20.796875 \r\nL -2.484375 -20.796875 \r\nL -0.984375 -13.28125 \r\nL 4.203125 -13.28125 \r\nQ 7.953125 -13.28125 10.59375 -11.234375 \r\nQ 13.234375 -9.1875 16.5 -3.21875 \r\nL 19.28125 2 \r\nL 7.171875 54.6875 \r\nL 16.703125 54.6875 \r\nL 25.78125 12.796875 \r\nL 50.875 54.6875 \r\nL 60.296875 54.6875 \r\nz\r\n\" id=\"DejaVuSans-Oblique-121\"/>\r\n    </defs>\r\n    <g transform=\"translate(300.15 137.247847)scale(0.16 -0.16)\">\r\n     <use transform=\"translate(0 0.3125)\" xlink:href=\"#DejaVuSans-Oblique-121\"/>\r\n    </g>\r\n   </g>\r\n   <g id=\"text_3\">\r\n    <!-- $x_0$ -->\r\n    <defs>\r\n     <path d=\"M 60.015625 54.6875 \r\nL 34.90625 27.875 \r\nL 50.296875 0 \r\nL 39.984375 0 \r\nL 28.421875 21.6875 \r\nL 8.296875 0 \r\nL -2.59375 0 \r\nL 24.3125 28.8125 \r\nL 10.015625 54.6875 \r\nL 20.3125 54.6875 \r\nL 30.8125 34.90625 \r\nL 49.125 54.6875 \r\nz\r\n\" id=\"DejaVuSans-Oblique-120\"/>\r\n    </defs>\r\n    <g transform=\"translate(188.55 228.28134)scale(0.16 -0.16)\">\r\n     <use transform=\"translate(0 0.3125)\" xlink:href=\"#DejaVuSans-Oblique-120\"/>\r\n     <use transform=\"translate(59.179688 -16.09375)scale(0.7)\" xlink:href=\"#DejaVuSans-48\"/>\r\n    </g>\r\n   </g>\r\n   <g id=\"text_4\">\r\n    <!-- $x_1$ -->\r\n    <defs>\r\n     <path d=\"M 12.40625 8.296875 \r\nL 28.515625 8.296875 \r\nL 28.515625 63.921875 \r\nL 10.984375 60.40625 \r\nL 10.984375 69.390625 \r\nL 28.421875 72.90625 \r\nL 38.28125 72.90625 \r\nL 38.28125 8.296875 \r\nL 54.390625 8.296875 \r\nL 54.390625 0 \r\nL 12.40625 0 \r\nz\r\n\" id=\"DejaVuSans-49\"/>\r\n    </defs>\r\n    <g transform=\"translate(383.85 228.28134)scale(0.16 -0.16)\">\r\n     <use transform=\"translate(0 0.3125)\" xlink:href=\"#DejaVuSans-Oblique-120\"/>\r\n     <use transform=\"translate(59.179688 -16.09375)scale(0.7)\" xlink:href=\"#DejaVuSans-49\"/>\r\n    </g>\r\n   </g>\r\n   <g id=\"legend_1\">\r\n    <g id=\"line2d_3\">\r\n     <path d=\"M 479.6 20.298437 \r\nL 499.6 20.298437 \r\n\" style=\"fill:none;stroke:#000000;stroke-linecap:square;stroke-width:2;\"/>\r\n    </g>\r\n    <g id=\"line2d_4\"/>\r\n    <g id=\"text_5\">\r\n     <!-- $f$ -->\r\n     <defs>\r\n      <path d=\"M 47.796875 75.984375 \r\nL 46.390625 68.5 \r\nL 37.796875 68.5 \r\nQ 32.90625 68.5 30.6875 66.578125 \r\nQ 28.46875 64.65625 27.390625 59.515625 \r\nL 26.421875 54.6875 \r\nL 41.21875 54.6875 \r\nL 39.890625 47.703125 \r\nL 25.09375 47.703125 \r\nL 15.828125 0 \r\nL 6.78125 0 \r\nL 16.109375 47.703125 \r\nL 7.515625 47.703125 \r\nL 8.796875 54.6875 \r\nL 17.390625 54.6875 \r\nL 18.109375 58.5 \r\nQ 19.96875 68.171875 24.625 72.078125 \r\nQ 29.296875 75.984375 39.3125 75.984375 \r\nz\r\n\" id=\"DejaVuSans-Oblique-102\"/>\r\n     </defs>\r\n     <g transform=\"translate(507.6 23.798437)scale(0.1 -0.1)\">\r\n      <use transform=\"translate(0 0.015625)\" xlink:href=\"#DejaVuSans-Oblique-102\"/>\r\n     </g>\r\n    </g>\r\n    <g id=\"line2d_5\">\r\n     <path d=\"M 479.6 34.978125 \r\nL 499.6 34.978125 \r\n\" style=\"fill:none;stroke:#0000ff;stroke-width:3;\"/>\r\n    </g>\r\n    <g id=\"text_6\">\r\n     <!-- range of $f$ -->\r\n     <defs>\r\n      <path d=\"M 41.109375 46.296875 \r\nQ 39.59375 47.171875 37.8125 47.578125 \r\nQ 36.03125 48 33.890625 48 \r\nQ 26.265625 48 22.1875 43.046875 \r\nQ 18.109375 38.09375 18.109375 28.8125 \r\nL 18.109375 0 \r\nL 9.078125 0 \r\nL 9.078125 54.6875 \r\nL 18.109375 54.6875 \r\nL 18.109375 46.1875 \r\nQ 20.953125 51.171875 25.484375 53.578125 \r\nQ 30.03125 56 36.53125 56 \r\nQ 37.453125 56 38.578125 55.875 \r\nQ 39.703125 55.765625 41.0625 55.515625 \r\nz\r\n\" id=\"DejaVuSans-114\"/>\r\n      <path d=\"M 34.28125 27.484375 \r\nQ 23.390625 27.484375 19.1875 25 \r\nQ 14.984375 22.515625 14.984375 16.5 \r\nQ 14.984375 11.71875 18.140625 8.90625 \r\nQ 21.296875 6.109375 26.703125 6.109375 \r\nQ 34.1875 6.109375 38.703125 11.40625 \r\nQ 43.21875 16.703125 43.21875 25.484375 \r\nL 43.21875 27.484375 \r\nz\r\nM 52.203125 31.203125 \r\nL 52.203125 0 \r\nL 43.21875 0 \r\nL 43.21875 8.296875 \r\nQ 40.140625 3.328125 35.546875 0.953125 \r\nQ 30.953125 -1.421875 24.3125 -1.421875 \r\nQ 15.921875 -1.421875 10.953125 3.296875 \r\nQ 6 8.015625 6 15.921875 \r\nQ 6 25.140625 12.171875 29.828125 \r\nQ 18.359375 34.515625 30.609375 34.515625 \r\nL 43.21875 34.515625 \r\nL 43.21875 35.40625 \r\nQ 43.21875 41.609375 39.140625 45 \r\nQ 35.0625 48.390625 27.6875 48.390625 \r\nQ 23 48.390625 18.546875 47.265625 \r\nQ 14.109375 46.140625 10.015625 43.890625 \r\nL 10.015625 52.203125 \r\nQ 14.9375 54.109375 19.578125 55.046875 \r\nQ 24.21875 56 28.609375 56 \r\nQ 40.484375 56 46.34375 49.84375 \r\nQ 52.203125 43.703125 52.203125 31.203125 \r\nz\r\n\" id=\"DejaVuSans-97\"/>\r\n      <path d=\"M 54.890625 33.015625 \r\nL 54.890625 0 \r\nL 45.90625 0 \r\nL 45.90625 32.71875 \r\nQ 45.90625 40.484375 42.875 44.328125 \r\nQ 39.84375 48.1875 33.796875 48.1875 \r\nQ 26.515625 48.1875 22.3125 43.546875 \r\nQ 18.109375 38.921875 18.109375 30.90625 \r\nL 18.109375 0 \r\nL 9.078125 0 \r\nL 9.078125 54.6875 \r\nL 18.109375 54.6875 \r\nL 18.109375 46.1875 \r\nQ 21.34375 51.125 25.703125 53.5625 \r\nQ 30.078125 56 35.796875 56 \r\nQ 45.21875 56 50.046875 50.171875 \r\nQ 54.890625 44.34375 54.890625 33.015625 \r\nz\r\n\" id=\"DejaVuSans-110\"/>\r\n      <path d=\"M 45.40625 27.984375 \r\nQ 45.40625 37.75 41.375 43.109375 \r\nQ 37.359375 48.484375 30.078125 48.484375 \r\nQ 22.859375 48.484375 18.828125 43.109375 \r\nQ 14.796875 37.75 14.796875 27.984375 \r\nQ 14.796875 18.265625 18.828125 12.890625 \r\nQ 22.859375 7.515625 30.078125 7.515625 \r\nQ 37.359375 7.515625 41.375 12.890625 \r\nQ 45.40625 18.265625 45.40625 27.984375 \r\nz\r\nM 54.390625 6.78125 \r\nQ 54.390625 -7.171875 48.1875 -13.984375 \r\nQ 42 -20.796875 29.203125 -20.796875 \r\nQ 24.46875 -20.796875 20.265625 -20.09375 \r\nQ 16.0625 -19.390625 12.109375 -17.921875 \r\nL 12.109375 -9.1875 \r\nQ 16.0625 -11.328125 19.921875 -12.34375 \r\nQ 23.78125 -13.375 27.78125 -13.375 \r\nQ 36.625 -13.375 41.015625 -8.765625 \r\nQ 45.40625 -4.15625 45.40625 5.171875 \r\nL 45.40625 9.625 \r\nQ 42.625 4.78125 38.28125 2.390625 \r\nQ 33.9375 0 27.875 0 \r\nQ 17.828125 0 11.671875 7.65625 \r\nQ 5.515625 15.328125 5.515625 27.984375 \r\nQ 5.515625 40.671875 11.671875 48.328125 \r\nQ 17.828125 56 27.875 56 \r\nQ 33.9375 56 38.28125 53.609375 \r\nQ 42.625 51.21875 45.40625 46.390625 \r\nL 45.40625 54.6875 \r\nL 54.390625 54.6875 \r\nz\r\n\" id=\"DejaVuSans-103\"/>\r\n      <path d=\"M 56.203125 29.59375 \r\nL 56.203125 25.203125 \r\nL 14.890625 25.203125 \r\nQ 15.484375 15.921875 20.484375 11.0625 \r\nQ 25.484375 6.203125 34.421875 6.203125 \r\nQ 39.59375 6.203125 44.453125 7.46875 \r\nQ 49.3125 8.734375 54.109375 11.28125 \r\nL 54.109375 2.78125 \r\nQ 49.265625 0.734375 44.1875 -0.34375 \r\nQ 39.109375 -1.421875 33.890625 -1.421875 \r\nQ 20.796875 -1.421875 13.15625 6.1875 \r\nQ 5.515625 13.8125 5.515625 26.8125 \r\nQ 5.515625 40.234375 12.765625 48.109375 \r\nQ 20.015625 56 32.328125 56 \r\nQ 43.359375 56 49.78125 48.890625 \r\nQ 56.203125 41.796875 56.203125 29.59375 \r\nz\r\nM 47.21875 32.234375 \r\nQ 47.125 39.59375 43.09375 43.984375 \r\nQ 39.0625 48.390625 32.421875 48.390625 \r\nQ 24.90625 48.390625 20.390625 44.140625 \r\nQ 15.875 39.890625 15.1875 32.171875 \r\nz\r\n\" id=\"DejaVuSans-101\"/>\r\n      <path id=\"DejaVuSans-32\"/>\r\n      <path d=\"M 30.609375 48.390625 \r\nQ 23.390625 48.390625 19.1875 42.75 \r\nQ 14.984375 37.109375 14.984375 27.296875 \r\nQ 14.984375 17.484375 19.15625 11.84375 \r\nQ 23.34375 6.203125 30.609375 6.203125 \r\nQ 37.796875 6.203125 41.984375 11.859375 \r\nQ 46.1875 17.53125 46.1875 27.296875 \r\nQ 46.1875 37.015625 41.984375 42.703125 \r\nQ 37.796875 48.390625 30.609375 48.390625 \r\nz\r\nM 30.609375 56 \r\nQ 42.328125 56 49.015625 48.375 \r\nQ 55.71875 40.765625 55.71875 27.296875 \r\nQ 55.71875 13.875 49.015625 6.21875 \r\nQ 42.328125 -1.421875 30.609375 -1.421875 \r\nQ 18.84375 -1.421875 12.171875 6.21875 \r\nQ 5.515625 13.875 5.515625 27.296875 \r\nQ 5.515625 40.765625 12.171875 48.375 \r\nQ 18.84375 56 30.609375 56 \r\nz\r\n\" id=\"DejaVuSans-111\"/>\r\n      <path d=\"M 37.109375 75.984375 \r\nL 37.109375 68.5 \r\nL 28.515625 68.5 \r\nQ 23.6875 68.5 21.796875 66.546875 \r\nQ 19.921875 64.59375 19.921875 59.515625 \r\nL 19.921875 54.6875 \r\nL 34.71875 54.6875 \r\nL 34.71875 47.703125 \r\nL 19.921875 47.703125 \r\nL 19.921875 0 \r\nL 10.890625 0 \r\nL 10.890625 47.703125 \r\nL 2.296875 47.703125 \r\nL 2.296875 54.6875 \r\nL 10.890625 54.6875 \r\nL 10.890625 58.5 \r\nQ 10.890625 67.625 15.140625 71.796875 \r\nQ 19.390625 75.984375 28.609375 75.984375 \r\nz\r\n\" id=\"DejaVuSans-102\"/>\r\n     </defs>\r\n     <g transform=\"translate(507.6 38.478125)scale(0.1 -0.1)\">\r\n      <use transform=\"translate(0 0.015625)\" xlink:href=\"#DejaVuSans-114\"/>\r\n      <use transform=\"translate(41.113281 0.015625)\" xlink:href=\"#DejaVuSans-97\"/>\r\n      <use transform=\"translate(102.392578 0.015625)\" xlink:href=\"#DejaVuSans-110\"/>\r\n      <use transform=\"translate(165.771484 0.015625)\" xlink:href=\"#DejaVuSans-103\"/>\r\n      <use transform=\"translate(229.248047 0.015625)\" xlink:href=\"#DejaVuSans-101\"/>\r\n      <use transform=\"translate(290.771484 0.015625)\" xlink:href=\"#DejaVuSans-32\"/>\r\n      <use transform=\"translate(322.558594 0.015625)\" xlink:href=\"#DejaVuSans-111\"/>\r\n      <use transform=\"translate(383.740234 0.015625)\" xlink:href=\"#DejaVuSans-102\"/>\r\n      <use transform=\"translate(418.945312 0.015625)\" xlink:href=\"#DejaVuSans-32\"/>\r\n      <use transform=\"translate(450.732422 0.015625)\" xlink:href=\"#DejaVuSans-Oblique-102\"/>\r\n     </g>\r\n    </g>\r\n   </g>\r\n  </g>\r\n  <g id=\"axes_2\">\r\n   <g id=\"patch_7\">\r\n    <path d=\"M 7.2 550.8 \r\nL 565.2 550.8 \r\nL 565.2 303.709091 \r\nL 7.2 303.709091 \r\nz\r\n\" style=\"fill:#ffffff;\"/>\r\n   </g>\r\n   <g id=\"PolyCollection_2\">\r\n    <path clip-path=\"url(#p303a8cdf70)\" d=\"M 7.2 381.750144 \r\nL 7.2 459.766324 \r\nL 10.709434 459.766324 \r\nL 14.218868 459.766324 \r\nL 17.728302 459.766324 \r\nL 21.237736 459.766324 \r\nL 24.74717 459.766324 \r\nL 28.256604 459.766324 \r\nL 31.766038 459.766324 \r\nL 35.275472 459.766324 \r\nL 38.784906 459.766324 \r\nL 42.29434 459.766324 \r\nL 45.803774 459.766324 \r\nL 49.313208 459.766324 \r\nL 52.822642 459.766324 \r\nL 56.332075 459.766324 \r\nL 59.841509 459.766324 \r\nL 63.350943 459.766324 \r\nL 66.860377 459.766324 \r\nL 70.369811 459.766324 \r\nL 73.879245 459.766324 \r\nL 77.388679 459.766324 \r\nL 80.898113 459.766324 \r\nL 84.407547 459.766324 \r\nL 87.916981 459.766324 \r\nL 91.426415 459.766324 \r\nL 94.935849 459.766324 \r\nL 98.445283 459.766324 \r\nL 101.954717 459.766324 \r\nL 105.464151 459.766324 \r\nL 108.973585 459.766324 \r\nL 112.483019 459.766324 \r\nL 115.992453 459.766324 \r\nL 119.501887 459.766324 \r\nL 123.011321 459.766324 \r\nL 126.520755 459.766324 \r\nL 130.030189 459.766324 \r\nL 133.539623 459.766324 \r\nL 137.049057 459.766324 \r\nL 140.558491 459.766324 \r\nL 144.067925 459.766324 \r\nL 147.577358 459.766324 \r\nL 151.086792 459.766324 \r\nL 154.596226 459.766324 \r\nL 158.10566 459.766324 \r\nL 161.615094 459.766324 \r\nL 165.124528 459.766324 \r\nL 168.633962 459.766324 \r\nL 172.143396 459.766324 \r\nL 175.65283 459.766324 \r\nL 179.162264 459.766324 \r\nL 182.671698 459.766324 \r\nL 186.181132 459.766324 \r\nL 189.690566 459.766324 \r\nL 193.2 459.766324 \r\nL 196.709434 459.766324 \r\nL 200.218868 459.766324 \r\nL 203.728302 459.766324 \r\nL 207.237736 459.766324 \r\nL 210.74717 459.766324 \r\nL 214.256604 459.766324 \r\nL 217.766038 459.766324 \r\nL 221.275472 459.766324 \r\nL 224.784906 459.766324 \r\nL 228.29434 459.766324 \r\nL 231.803774 459.766324 \r\nL 235.313208 459.766324 \r\nL 238.822642 459.766324 \r\nL 242.332075 459.766324 \r\nL 245.841509 459.766324 \r\nL 249.350943 459.766324 \r\nL 252.860377 459.766324 \r\nL 256.369811 459.766324 \r\nL 259.879245 459.766324 \r\nL 263.388679 459.766324 \r\nL 266.898113 459.766324 \r\nL 270.407547 459.766324 \r\nL 273.916981 459.766324 \r\nL 277.426415 459.766324 \r\nL 280.935849 459.766324 \r\nL 284.445283 459.766324 \r\nL 287.954717 459.766324 \r\nL 291.464151 459.766324 \r\nL 294.973585 459.766324 \r\nL 298.483019 459.766324 \r\nL 301.992453 459.766324 \r\nL 305.501887 459.766324 \r\nL 309.011321 459.766324 \r\nL 312.520755 459.766324 \r\nL 316.030189 459.766324 \r\nL 319.539623 459.766324 \r\nL 323.049057 459.766324 \r\nL 326.558491 459.766324 \r\nL 330.067925 459.766324 \r\nL 333.577358 459.766324 \r\nL 337.086792 459.766324 \r\nL 340.596226 459.766324 \r\nL 344.10566 459.766324 \r\nL 347.615094 459.766324 \r\nL 351.124528 459.766324 \r\nL 354.633962 459.766324 \r\nL 358.143396 459.766324 \r\nL 361.65283 459.766324 \r\nL 365.162264 459.766324 \r\nL 368.671698 459.766324 \r\nL 372.181132 459.766324 \r\nL 375.690566 459.766324 \r\nL 379.2 459.766324 \r\nL 382.709434 459.766324 \r\nL 386.218868 459.766324 \r\nL 389.728302 459.766324 \r\nL 393.237736 459.766324 \r\nL 396.74717 459.766324 \r\nL 400.256604 459.766324 \r\nL 403.766038 459.766324 \r\nL 407.275472 459.766324 \r\nL 410.784906 459.766324 \r\nL 414.29434 459.766324 \r\nL 417.803774 459.766324 \r\nL 421.313208 459.766324 \r\nL 424.822642 459.766324 \r\nL 428.332075 459.766324 \r\nL 431.841509 459.766324 \r\nL 435.350943 459.766324 \r\nL 438.860377 459.766324 \r\nL 442.369811 459.766324 \r\nL 445.879245 459.766324 \r\nL 449.388679 459.766324 \r\nL 452.898113 459.766324 \r\nL 456.407547 459.766324 \r\nL 459.916981 459.766324 \r\nL 463.426415 459.766324 \r\nL 466.935849 459.766324 \r\nL 470.445283 459.766324 \r\nL 473.954717 459.766324 \r\nL 477.464151 459.766324 \r\nL 480.973585 459.766324 \r\nL 484.483019 459.766324 \r\nL 487.992453 459.766324 \r\nL 491.501887 459.766324 \r\nL 495.011321 459.766324 \r\nL 498.520755 459.766324 \r\nL 502.030189 459.766324 \r\nL 505.539623 459.766324 \r\nL 509.049057 459.766324 \r\nL 512.558491 459.766324 \r\nL 516.067925 459.766324 \r\nL 519.577358 459.766324 \r\nL 523.086792 459.766324 \r\nL 526.596226 459.766324 \r\nL 530.10566 459.766324 \r\nL 533.615094 459.766324 \r\nL 537.124528 459.766324 \r\nL 540.633962 459.766324 \r\nL 544.143396 459.766324 \r\nL 547.65283 459.766324 \r\nL 551.162264 459.766324 \r\nL 554.671698 459.766324 \r\nL 558.181132 459.766324 \r\nL 561.690566 459.766324 \r\nL 565.2 459.766324 \r\nL 565.2 381.750144 \r\nL 565.2 381.750144 \r\nL 561.690566 381.750144 \r\nL 558.181132 381.750144 \r\nL 554.671698 381.750144 \r\nL 551.162264 381.750144 \r\nL 547.65283 381.750144 \r\nL 544.143396 381.750144 \r\nL 540.633962 381.750144 \r\nL 537.124528 381.750144 \r\nL 533.615094 381.750144 \r\nL 530.10566 381.750144 \r\nL 526.596226 381.750144 \r\nL 523.086792 381.750144 \r\nL 519.577358 381.750144 \r\nL 516.067925 381.750144 \r\nL 512.558491 381.750144 \r\nL 509.049057 381.750144 \r\nL 505.539623 381.750144 \r\nL 502.030189 381.750144 \r\nL 498.520755 381.750144 \r\nL 495.011321 381.750144 \r\nL 491.501887 381.750144 \r\nL 487.992453 381.750144 \r\nL 484.483019 381.750144 \r\nL 480.973585 381.750144 \r\nL 477.464151 381.750144 \r\nL 473.954717 381.750144 \r\nL 470.445283 381.750144 \r\nL 466.935849 381.750144 \r\nL 463.426415 381.750144 \r\nL 459.916981 381.750144 \r\nL 456.407547 381.750144 \r\nL 452.898113 381.750144 \r\nL 449.388679 381.750144 \r\nL 445.879245 381.750144 \r\nL 442.369811 381.750144 \r\nL 438.860377 381.750144 \r\nL 435.350943 381.750144 \r\nL 431.841509 381.750144 \r\nL 428.332075 381.750144 \r\nL 424.822642 381.750144 \r\nL 421.313208 381.750144 \r\nL 417.803774 381.750144 \r\nL 414.29434 381.750144 \r\nL 410.784906 381.750144 \r\nL 407.275472 381.750144 \r\nL 403.766038 381.750144 \r\nL 400.256604 381.750144 \r\nL 396.74717 381.750144 \r\nL 393.237736 381.750144 \r\nL 389.728302 381.750144 \r\nL 386.218868 381.750144 \r\nL 382.709434 381.750144 \r\nL 379.2 381.750144 \r\nL 375.690566 381.750144 \r\nL 372.181132 381.750144 \r\nL 368.671698 381.750144 \r\nL 365.162264 381.750144 \r\nL 361.65283 381.750144 \r\nL 358.143396 381.750144 \r\nL 354.633962 381.750144 \r\nL 351.124528 381.750144 \r\nL 347.615094 381.750144 \r\nL 344.10566 381.750144 \r\nL 340.596226 381.750144 \r\nL 337.086792 381.750144 \r\nL 333.577358 381.750144 \r\nL 330.067925 381.750144 \r\nL 326.558491 381.750144 \r\nL 323.049057 381.750144 \r\nL 319.539623 381.750144 \r\nL 316.030189 381.750144 \r\nL 312.520755 381.750144 \r\nL 309.011321 381.750144 \r\nL 305.501887 381.750144 \r\nL 301.992453 381.750144 \r\nL 298.483019 381.750144 \r\nL 294.973585 381.750144 \r\nL 291.464151 381.750144 \r\nL 287.954717 381.750144 \r\nL 284.445283 381.750144 \r\nL 280.935849 381.750144 \r\nL 277.426415 381.750144 \r\nL 273.916981 381.750144 \r\nL 270.407547 381.750144 \r\nL 266.898113 381.750144 \r\nL 263.388679 381.750144 \r\nL 259.879245 381.750144 \r\nL 256.369811 381.750144 \r\nL 252.860377 381.750144 \r\nL 249.350943 381.750144 \r\nL 245.841509 381.750144 \r\nL 242.332075 381.750144 \r\nL 238.822642 381.750144 \r\nL 235.313208 381.750144 \r\nL 231.803774 381.750144 \r\nL 228.29434 381.750144 \r\nL 224.784906 381.750144 \r\nL 221.275472 381.750144 \r\nL 217.766038 381.750144 \r\nL 214.256604 381.750144 \r\nL 210.74717 381.750144 \r\nL 207.237736 381.750144 \r\nL 203.728302 381.750144 \r\nL 200.218868 381.750144 \r\nL 196.709434 381.750144 \r\nL 193.2 381.750144 \r\nL 189.690566 381.750144 \r\nL 186.181132 381.750144 \r\nL 182.671698 381.750144 \r\nL 179.162264 381.750144 \r\nL 175.65283 381.750144 \r\nL 172.143396 381.750144 \r\nL 168.633962 381.750144 \r\nL 165.124528 381.750144 \r\nL 161.615094 381.750144 \r\nL 158.10566 381.750144 \r\nL 154.596226 381.750144 \r\nL 151.086792 381.750144 \r\nL 147.577358 381.750144 \r\nL 144.067925 381.750144 \r\nL 140.558491 381.750144 \r\nL 137.049057 381.750144 \r\nL 133.539623 381.750144 \r\nL 130.030189 381.750144 \r\nL 126.520755 381.750144 \r\nL 123.011321 381.750144 \r\nL 119.501887 381.750144 \r\nL 115.992453 381.750144 \r\nL 112.483019 381.750144 \r\nL 108.973585 381.750144 \r\nL 105.464151 381.750144 \r\nL 101.954717 381.750144 \r\nL 98.445283 381.750144 \r\nL 94.935849 381.750144 \r\nL 91.426415 381.750144 \r\nL 87.916981 381.750144 \r\nL 84.407547 381.750144 \r\nL 80.898113 381.750144 \r\nL 77.388679 381.750144 \r\nL 73.879245 381.750144 \r\nL 70.369811 381.750144 \r\nL 66.860377 381.750144 \r\nL 63.350943 381.750144 \r\nL 59.841509 381.750144 \r\nL 56.332075 381.750144 \r\nL 52.822642 381.750144 \r\nL 49.313208 381.750144 \r\nL 45.803774 381.750144 \r\nL 42.29434 381.750144 \r\nL 38.784906 381.750144 \r\nL 35.275472 381.750144 \r\nL 31.766038 381.750144 \r\nL 28.256604 381.750144 \r\nL 24.74717 381.750144 \r\nL 21.237736 381.750144 \r\nL 17.728302 381.750144 \r\nL 14.218868 381.750144 \r\nL 10.709434 381.750144 \r\nL 7.2 381.750144 \r\nz\r\n\" style=\"fill:#0000ff;fill-opacity:0.05;\"/>\r\n   </g>\r\n   <g id=\"matplotlib.axis_3\"/>\r\n   <g id=\"matplotlib.axis_4\"/>\r\n   <g id=\"LineCollection_4\">\r\n    <path clip-path=\"url(#p303a8cdf70)\" d=\"M 286.2 459.766324 \r\nL 286.2 381.750144 \r\n\" style=\"fill:none;stroke:#0000ff;stroke-width:3;\"/>\r\n   </g>\r\n   <g id=\"line2d_6\">\r\n    <path clip-path=\"url(#p303a8cdf70)\" d=\"M 7.2 446.253637 \r\nL 14.218868 449.090803 \r\nL 21.237736 451.64125 \r\nL 28.256604 453.879171 \r\nL 35.275472 455.781926 \r\nL 42.29434 457.330262 \r\nL 49.313208 458.508513 \r\nL 56.332075 459.30476 \r\nL 63.350943 459.710945 \r\nL 70.369811 459.722959 \r\nL 77.388679 459.34068 \r\nL 84.407547 458.567977 \r\nL 91.426415 457.412667 \r\nL 98.445283 455.886438 \r\nL 105.464151 454.004734 \r\nL 112.483019 451.786593 \r\nL 119.501887 449.254456 \r\nL 126.520755 446.433942 \r\nL 133.539623 443.35359 \r\nL 140.558491 440.044565 \r\nL 147.577358 436.540346 \r\nL 158.10566 430.996038 \r\nL 172.143396 423.263868 \r\nL 193.2 411.574511 \r\nL 203.728302 405.976871 \r\nL 210.74717 402.424204 \r\nL 217.766038 399.056973 \r\nL 224.784906 395.909245 \r\nL 231.803774 393.01287 \r\nL 238.822642 390.39715 \r\nL 245.841509 388.088551 \r\nL 252.860377 386.110431 \r\nL 259.879245 384.482803 \r\nL 266.898113 383.222135 \r\nL 273.916981 382.341183 \r\nL 280.935849 381.848859 \r\nL 287.954717 381.750144 \r\nL 294.973585 382.046038 \r\nL 301.992453 382.733546 \r\nL 309.011321 383.805713 \r\nL 316.030189 385.251691 \r\nL 323.049057 387.056849 \r\nL 330.067925 389.202925 \r\nL 337.086792 391.668204 \r\nL 344.10566 394.427744 \r\nL 351.124528 397.453625 \r\nL 358.143396 400.715232 \r\nL 365.162264 404.179565 \r\nL 375.690566 409.67903 \r\nL 389.728302 417.380857 \r\nL 414.29434 430.996038 \r\nL 424.822642 436.540346 \r\nL 431.841509 440.044565 \r\nL 438.860377 443.35359 \r\nL 445.879245 446.433942 \r\nL 452.898113 449.254456 \r\nL 459.916981 451.786593 \r\nL 466.935849 454.004734 \r\nL 473.954717 455.886438 \r\nL 480.973585 457.412667 \r\nL 487.992453 458.567977 \r\nL 495.011321 459.34068 \r\nL 502.030189 459.722959 \r\nL 509.049057 459.710945 \r\nL 516.067925 459.30476 \r\nL 523.086792 458.508513 \r\nL 530.10566 457.330262 \r\nL 537.124528 455.781926 \r\nL 544.143396 453.879171 \r\nL 551.162264 451.64125 \r\nL 558.181132 449.090803 \r\nL 565.2 446.253637 \r\nL 565.2 446.253637 \r\n\" style=\"fill:none;stroke:#000000;stroke-linecap:square;stroke-width:2;\"/>\r\n   </g>\r\n   <g id=\"line2d_7\">\r\n    <path clip-path=\"url(#p303a8cdf70)\" d=\"M 7.2 342.723445 \r\nL 565.2 342.723445 \r\nL 565.2 342.723445 \r\n\" style=\"fill:none;stroke:#000000;stroke-dasharray:5.55,2.4;stroke-dashoffset:0;stroke-opacity:0.5;stroke-width:1.5;\"/>\r\n   </g>\r\n   <g id=\"patch_8\">\r\n    <path d=\"M 286.2 550.8 \r\nL 286.2 303.709091 \r\n\" style=\"fill:none;stroke:#000000;stroke-linecap:square;stroke-linejoin:miter;stroke-width:0.8;\"/>\r\n   </g>\r\n   <g id=\"patch_9\">\r\n    <path d=\"M 565.2 550.8 \r\nL 565.2 303.709091 \r\n\" style=\"fill:none;\"/>\r\n   </g>\r\n   <g id=\"patch_10\">\r\n    <path d=\"M 7.2 511.785646 \r\nL 565.2 511.785646 \r\n\" style=\"fill:none;stroke:#000000;stroke-linecap:square;stroke-linejoin:miter;stroke-width:0.8;\"/>\r\n   </g>\r\n   <g id=\"patch_11\">\r\n    <path d=\"M 7.2 303.709091 \r\nL 565.2 303.709091 \r\n\" style=\"fill:none;\"/>\r\n   </g>\r\n   <g id=\"text_7\">\r\n    <!-- $0$ -->\r\n    <g transform=\"translate(297.36 531.292823)scale(0.16 -0.16)\">\r\n     <use transform=\"translate(0 0.78125)\" xlink:href=\"#DejaVuSans-48\"/>\r\n    </g>\r\n   </g>\r\n   <g id=\"text_8\">\r\n    <!-- $y$ -->\r\n    <g transform=\"translate(297.36 357.939043)scale(0.16 -0.16)\">\r\n     <use transform=\"translate(0 0.3125)\" xlink:href=\"#DejaVuSans-Oblique-121\"/>\r\n    </g>\r\n   </g>\r\n  </g>\r\n </g>\r\n <defs>\r\n  <clipPath id=\"p3d9f72ebde\">\r\n   <rect height=\"247.090909\" width=\"558\" x=\"7.2\" y=\"7.2\"/>\r\n  </clipPath>\r\n  <clipPath id=\"p303a8cdf70\">\r\n   <rect height=\"247.090909\" width=\"558\" x=\"7.2\" y=\"303.709091\"/>\r\n  </clipPath>\r\n </defs>\r\n</svg>\r\n",
      "image/png": "[encoded data removed]"
     },
     "metadata": {}
    }
   ],
   "source": [
    "import matplotlib.pyplot as plt\n",
    "import numpy as np\n",
    "\n",
    "def f(x):\n",
    "    return 0.6 * np.cos(4 * x) + 1.4\n",
    "\n",
    "\n",
    "xmin, xmax = -1, 1\n",
    "x = np.linspace(xmin, xmax, 160)\n",
    "y = f(x)\n",
    "ya, yb = np.min(y), np.max(y)\n",
    "\n",
    "fig, axes = plt.subplots(2, 1, figsize=(10, 10))\n",
    "\n",
    "for ax in axes:\n",
    "    # Set the axes through the origin\n",
    "    for spine in ['left', 'bottom']:\n",
    "        ax.spines[spine].set_position('zero')\n",
    "    for spine in ['right', 'top']:\n",
    "        ax.spines[spine].set_color('none')\n",
    "\n",
    "    ax.set(ylim=(-0.6, 3.2), xlim=(xmin, xmax),\n",
    "           yticks=(), xticks=())\n",
    "\n",
    "    ax.plot(x, y, 'k-', lw=2, label='$f$')\n",
    "    ax.fill_between(x, ya, yb, facecolor='blue', alpha=0.05)\n",
    "    ax.vlines([0], ya, yb, lw=3, color='blue', label='range of $f$')\n",
    "    ax.text(0.04, -0.3, '$0$', fontsize=16)\n",
    "\n",
    "ax = axes[0]\n",
    "\n",
    "ax.legend(loc='upper right', frameon=False)\n",
    "ybar = 1.5\n",
    "ax.plot(x, x * 0 + ybar, 'k--', alpha=0.5)\n",
    "ax.text(0.05, 0.8 * ybar, '$y$', fontsize=16)\n",
    "for i, z in enumerate((-0.35, 0.35)):\n",
    "    ax.vlines(z, 0, f(z), linestyle='--', alpha=0.5)\n",
    "    ax.text(z, -0.2, f'$x_{i}$', fontsize=16)\n",
    "\n",
    "ax = axes[1]\n",
    "\n",
    "ybar = 2.6\n",
    "ax.plot(x, x * 0 + ybar, 'k--', alpha=0.5)\n",
    "ax.text(0.04, 0.91 * ybar, '$y$', fontsize=16)\n",
    "\n",
    "plt.show()"
   ]
  },
  {
   "cell_type": "markdown",
   "metadata": {},
   "source": [
    "In the first plot, there are multiple solutions, as the function is not one-to-one, while\n",
    "in the second there are no solutions, since $ y $ lies outside the range of $ f $.\n",
    "\n",
    "Can we impose conditions on $ A $ in an equation that rule out these problems?\n",
    "\n",
    "In this context, the most important thing to recognize about the expression\n",
    "$ Ax $ is that it corresponds to a linear combination of the columns of $ A $.\n",
    "\n",
    "In particular, if $ a_1, \\ldots, a_k $ are the columns of $ A $, then\n",
    "\n",
    "$$\n",
    "Ax = x_1 a_1 + \\cdots + x_k a_k\n",
    "$$\n",
    "\n",
    "Hence the range of $ f(x) = Ax $ is exactly the span of the columns of $ A $.\n",
    "\n",
    "We want the range to be large so that it contains arbitrary $ y $.\n",
    "\n",
    "As you might recall, the condition that we want for the span to be large is [linear independence](#la-li).\n",
    "\n",
    "A happy fact is that linear independence of the columns of $ A $ also gives us uniqueness.\n",
    "\n",
    "Indeed, it follows that if $ \\{a_1, \\ldots, a_k\\} $ are linearly independent and $ y = Ax = x_1 a_1 + \\cdots + x_k a_k $, then no $ z \\not= x $ satisfies $ y = Az $."
   ]
  },
  {
   "cell_type": "markdown",
   "metadata": {},
   "source": [
    "### The Square Matrix Case\n",
    "\n",
    "Let’s discuss some more details, starting with the case where $ A $ is $ n \\times n $.\n",
    "\n",
    "This is the familiar case where the number of unknowns equals the number of equations.\n",
    "\n",
    "For arbitrary $ y \\in \\mathbb R ^n $, we hope to find a unique $ x \\in \\mathbb R ^n $ such that $ y = Ax $.\n",
    "\n",
    "In view of the observations immediately above, if the columns of $ A $ are\n",
    "linearly independent, then their span, and hence the range of $ f(x) =\n",
    "Ax $, is all of $ \\mathbb R ^n $.\n",
    "\n",
    "Hence there always exists an $ x $ such that $ y = Ax $.\n",
    "\n",
    "Moreover, the solution is unique.\n",
    "\n",
    "In particular, the following are equivalent\n",
    "\n",
    "1. The columns of $ A $ are linearly independent.  \n",
    "1. For any $ y \\in \\mathbb R ^n $, the equation $ y = Ax $ has a unique solution.  \n",
    "\n",
    "\n",
    "The property of having linearly independent columns is sometimes expressed as having *full column rank*."
   ]
  },
  {
   "cell_type": "markdown",
   "metadata": {},
   "source": [
    "#### Inverse Matrices\n",
    "\n",
    "\n",
    "<a id='index-13'></a>\n",
    "Can we give some sort of expression for the solution?\n",
    "\n",
    "If $ y $ and $ A $ are scalar with $ A \\not= 0 $, then the\n",
    "solution is $ x = A^{-1} y $.\n",
    "\n",
    "A similar expression is available in the matrix case.\n",
    "\n",
    "In particular, if square matrix $ A $ has full column rank, then it possesses a multiplicative\n",
    "*inverse matrix* $ A^{-1} $, with the property that $ A A^{-1} = A^{-1} A = I $.\n",
    "\n",
    "As a consequence, if we pre-multiply both sides of $ y = Ax $ by $ A^{-1} $, we get $ x = A^{-1} y $.\n",
    "\n",
    "This is the solution that we’re looking for."
   ]
  },
  {
   "cell_type": "markdown",
   "metadata": {},
   "source": [
    "#### Determinants\n",
    "\n",
    "\n",
    "<a id='index-14'></a>\n",
    "Another quick comment about square matrices is that to every such matrix we\n",
    "assign a unique number called the *determinant* of the matrix — you can find\n",
    "the expression for it [here](https://en.wikipedia.org/wiki/Determinant).\n",
    "\n",
    "If the determinant of $ A $ is not zero, then we say that $ A $ is\n",
    "*nonsingular*.\n",
    "\n",
    "Perhaps the most important fact about determinants is that $ A $ is nonsingular if and only if $ A $ is of full column rank.\n",
    "\n",
    "This gives us a useful one-number summary of whether or not a square matrix can be\n",
    "inverted."
   ]
  },
  {
   "cell_type": "markdown",
   "metadata": {},
   "source": [
    "### More Rows than Columns\n",
    "\n",
    "This is the $ n \\times k $ case with $ n > k $.\n",
    "\n",
    "This case is very important in many settings, not least in the setting of linear regression (where $ n $ is the number of observations, and $ k $ is the number of explanatory variables).\n",
    "\n",
    "Given arbitrary $ y \\in \\mathbb R ^n $, we seek an $ x \\in \\mathbb R ^k $ such that $ y = Ax $.\n",
    "\n",
    "In this setting, the existence of a solution is highly unlikely.\n",
    "\n",
    "Without much loss of generality, let’s go over the intuition focusing on the case where the columns of\n",
    "$ A $ are linearly independent.\n",
    "\n",
    "It follows that the span of the columns of $ A $ is a $ k $-dimensional subspace of $ \\mathbb R ^n $.\n",
    "\n",
    "This span is very “unlikely” to contain arbitrary $ y \\in \\mathbb R ^n $.\n",
    "\n",
    "To see why, recall the [figure above](#la-3dvec), where $ k=2 $ and $ n=3 $.\n",
    "\n",
    "Imagine an arbitrarily chosen $ y \\in \\mathbb R ^3 $, located somewhere in that three-dimensional space.\n",
    "\n",
    "What’s the likelihood that $ y $ lies in the span of $ \\{a_1, a_2\\} $ (i.e., the two dimensional plane through these points)?\n",
    "\n",
    "In a sense, it must be very small, since this plane has zero “thickness”.\n",
    "\n",
    "As a result, in the $ n > k $ case we usually give up on existence.\n",
    "\n",
    "However, we can still seek the best approximation, for example, an\n",
    "$ x $ that makes the distance $ \\| y - Ax\\| $ as small as possible.\n",
    "\n",
    "To solve this problem, one can use either calculus or the theory of orthogonal\n",
    "projections.\n",
    "\n",
    "The solution is known to be $ \\hat x = (A'A)^{-1}A'y $ — see for example\n",
    "chapter 3 of <a href=_static/lecture_specific/linear_algebra/course_notes.pdf download>these notes</a>."
   ]
  },
  {
   "cell_type": "markdown",
   "metadata": {},
   "source": [
    "### More Columns than Rows\n",
    "\n",
    "This is the $ n \\times k $ case with $ n < k $, so there are fewer\n",
    "equations than unknowns.\n",
    "\n",
    "In this case there are either no solutions or infinitely many — in other words, uniqueness never holds.\n",
    "\n",
    "For example, consider the case where $ k=3 $ and $ n=2 $.\n",
    "\n",
    "Thus, the columns of $ A $ consists of 3 vectors in $ \\mathbb R ^2 $.\n",
    "\n",
    "This set can never be linearly independent, since it is possible to find two vectors that span\n",
    "$ \\mathbb R ^2 $.\n",
    "\n",
    "(For example, use the canonical basis vectors)\n",
    "\n",
    "It follows that one column is a linear combination of the other two.\n",
    "\n",
    "For example, let’s say that $ a_1 = \\alpha a_2 + \\beta a_3 $.\n",
    "\n",
    "Then if $ y = Ax = x_1 a_1 + x_2 a_2 + x_3 a_3 $, we can also write\n",
    "\n",
    "$$\n",
    "y\n",
    "= x_1 (\\alpha a_2 + \\beta a_3) + x_2 a_2 + x_3 a_3\n",
    "= (x_1 \\alpha + x_2) a_2 + (x_1 \\beta + x_3) a_3\n",
    "$$\n",
    "\n",
    "In other words, uniqueness fails."
   ]
  },
  {
   "cell_type": "markdown",
   "metadata": {},
   "source": [
    "### Linear Equations with SciPy\n",
    "\n",
    "\n",
    "<a id='index-15'></a>\n",
    "Here’s an illustration of how to solve linear equations with SciPy’s `linalg` submodule.\n",
    "\n",
    "All of these routines are Python front ends to time-tested and highly optimized FORTRAN code"
   ]
  },
  {
   "cell_type": "code",
   "execution_count": 10,
   "metadata": {},
   "outputs": [],
   "source": [
    "from scipy import linalg"
   ]
  },
  {
   "cell_type": "code",
   "execution_count": 12,
   "metadata": {
    "hide-output": false
   },
   "outputs": [
    {
     "output_type": "execute_result",
     "data": {
      "text/plain": [
       "-2.0"
      ]
     },
     "metadata": {},
     "execution_count": 12
    }
   ],
   "source": [
    "A = ((1, 2), (3, 4))\n",
    "A = np.array(A)\n",
    "y = np.ones((2, 1))  # Column vector\n",
    "linalg.det(A)  # Check that A is nonsingular, and hence invertible"
   ]
  },
  {
   "cell_type": "code",
   "execution_count": 14,
   "metadata": {
    "hide-output": false
   },
   "outputs": [
    {
     "output_type": "execute_result",
     "data": {
      "text/plain": [
       "array([[-2. ,  1. ],\n",
       "       [ 1.5, -0.5]])"
      ]
     },
     "metadata": {},
     "execution_count": 14
    }
   ],
   "source": [
    "A_inv = linalg.inv(A)  # Compute the inverse\n",
    "A_inv"
   ]
  },
  {
   "cell_type": "code",
   "execution_count": 15,
   "metadata": {
    "hide-output": false
   },
   "outputs": [
    {
     "output_type": "execute_result",
     "data": {
      "text/plain": [
       "array([[1.],\n",
       "       [1.]])"
      ]
     },
     "metadata": {},
     "execution_count": 15
    }
   ],
   "source": [
    "x = A_inv @ y  # Solution\n",
    "A @ x          # Should equal y"
   ]
  },
  {
   "cell_type": "code",
   "execution_count": 17,
   "metadata": {
    "hide-output": false
   },
   "outputs": [
    {
     "output_type": "execute_result",
     "data": {
      "text/plain": [
       "array([[-1.],\n",
       "       [ 1.]])"
      ]
     },
     "metadata": {},
     "execution_count": 17
    }
   ],
   "source": [
    "linalg.solve(A, y)  # Produces the same solution"
   ]
  },
  {
   "cell_type": "markdown",
   "metadata": {},
   "source": [
    "Observe how we can solve for $ x = A^{-1} y $ by either via `inv(A) @ y`, or using `solve(A, y)`.\n",
    "\n",
    "The latter method uses a different algorithm (LU decomposition) that is numerically more stable, and hence should almost always be preferred.\n",
    "\n",
    "To obtain the least-squares solution $ \\hat x = (A'A)^{-1}A'y $, use `scipy.linalg.lstsq(A, y)`.\n",
    "\n",
    "\n",
    "<a id='la-eigen'></a>"
   ]
  },
  {
   "cell_type": "markdown",
   "metadata": {},
   "source": [
    "# Some Mathematical Properties\n",
    "\n",
    "We round out our discussion by briefly mentioning several other important\n",
    "topics."
   ]
  },
  {
   "cell_type": "markdown",
   "metadata": {},
   "source": [
    "### Series Expansions\n",
    "\n",
    "\n",
    "<a id='index-20'></a>\n",
    "Recall the usual summation formula for a geometric progression, which states\n",
    "that if $ |a| < 1 $, then $ \\sum_{k=0}^{\\infty} a^k = (1 - a)^{-1} $.\n",
    "\n",
    "A generalization of this idea exists in the matrix setting.\n",
    "\n",
    "\n",
    "<a id='la-mn'></a>"
   ]
  },
  {
   "cell_type": "markdown",
   "metadata": {},
   "source": [
    "#### Matrix Norms\n",
    "\n",
    "\n",
    "<a id='index-21'></a>\n",
    "Let $ A $ be a square matrix, and let\n",
    "\n",
    "$$\n",
    "\\| A \\| := \\max_{\\| x \\| = 1} \\| A x \\|\n",
    "$$\n",
    "\n",
    "The norms on the right-hand side are ordinary vector norms, while the norm on\n",
    "the left-hand side is a *matrix norm* — in this case, the so-called\n",
    "*spectral norm*.\n",
    "\n",
    "For example, for a square matrix $ S $, the condition $ \\| S \\| < 1 $ means that $ S $ is *contractive*, in the sense that it pulls all vectors towards the origin <sup><a href=#cfn id=cfn-link>[2]</a></sup>.\n",
    "\n",
    "\n",
    "<a id='la-neumann'></a>"
   ]
  },
  {
   "cell_type": "markdown",
   "metadata": {},
   "source": [
    "### Positive Definite Matrices\n",
    "\n",
    "\n",
    "<a id='index-27'></a>\n",
    "Let $ A $ be a symmetric $ n \\times n $ matrix.\n",
    "\n",
    "We say that $ A $ is\n",
    "\n",
    "1. *positive definite* if $ x' A x > 0 $ for every $ x \\in \\mathbb R ^n \\setminus \\{0\\} $  \n",
    "1. *positive semi-definite* or *nonnegative definite* if $ x' A x \\geq 0 $ for every $ x \\in \\mathbb R ^n $  \n",
    "\n",
    "\n",
    "Analogous definitions exist for negative definite and negative semi-definite matrices.\n",
    "\n",
    "It is notable that if $ A $ is positive definite, then all of its eigenvalues\n",
    "are strictly positive, and hence $ A $ is invertible (with positive\n",
    "definite inverse).\n",
    "\n",
    "\n",
    "<a id='la-mcalc'></a>"
   ]
  }
 ],
 "metadata": {
  "date": 1608594544.0680027,
  "filename": "linear_algebra.rst",
  "kernelspec": {
   "display_name": "Python 3",
   "language": "python",
   "name": "python3"
  },
  "next_doc": {
   "link": "complex_and_trig",
   "title": "Complex Numbers and Trigonometry"
  },
  "prev_doc": {
   "link": "sir_model",
   "title": "Modeling COVID 19"
  },
  "title": "Linear Algebra"
 },
 "nbformat": 4,
 "nbformat_minor": 2
}