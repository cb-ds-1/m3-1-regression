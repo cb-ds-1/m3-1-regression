{
 "cells": [
  {
   "cell_type": "markdown",
   "metadata": {},
   "source": [
    "# Statsmodels\n",
    "\n",
    "The most common package to do regression analysis with is [Statsmodels](https://www.statsmodels.org/stable/index.html)"
   ]
  },
  {
   "cell_type": "code",
   "execution_count": 96,
   "metadata": {},
   "outputs": [
    {
     "data": {
      "text/html": [
       "<table class=\"simpletable\">\n",
       "<caption>OLS Regression Results</caption>\n",
       "<tr>\n",
       "  <th>Dep. Variable:</th>            <td>y</td>        <th>  R-squared (uncentered):</th>      <td>   0.737</td>\n",
       "</tr>\n",
       "<tr>\n",
       "  <th>Model:</th>                   <td>OLS</td>       <th>  Adj. R-squared (uncentered):</th> <td>   0.731</td>\n",
       "</tr>\n",
       "<tr>\n",
       "  <th>Method:</th>             <td>Least Squares</td>  <th>  F-statistic:       </th>          <td>   137.1</td>\n",
       "</tr>\n",
       "<tr>\n",
       "  <th>Date:</th>             <td>Mon, 11 Jan 2021</td> <th>  Prob (F-statistic):</th>          <td>8.29e-16</td>\n",
       "</tr>\n",
       "<tr>\n",
       "  <th>Time:</th>                 <td>00:55:23</td>     <th>  Log-Likelihood:    </th>          <td> -146.53</td>\n",
       "</tr>\n",
       "<tr>\n",
       "  <th>No. Observations:</th>      <td>    50</td>      <th>  AIC:               </th>          <td>   295.1</td>\n",
       "</tr>\n",
       "<tr>\n",
       "  <th>Df Residuals:</th>          <td>    49</td>      <th>  BIC:               </th>          <td>   297.0</td>\n",
       "</tr>\n",
       "<tr>\n",
       "  <th>Df Model:</th>              <td>     1</td>      <th>                     </th>              <td> </td>   \n",
       "</tr>\n",
       "<tr>\n",
       "  <th>Covariance Type:</th>      <td>nonrobust</td>    <th>                     </th>              <td> </td>   \n",
       "</tr>\n",
       "</table>\n",
       "<table class=\"simpletable\">\n",
       "<tr>\n",
       "   <td></td>     <th>coef</th>     <th>std err</th>      <th>t</th>      <th>P>|t|</th>  <th>[0.025</th>    <th>0.975]</th>  \n",
       "</tr>\n",
       "<tr>\n",
       "  <th>x1</th> <td>    1.3596</td> <td>    0.116</td> <td>   11.709</td> <td> 0.000</td> <td>    1.126</td> <td>    1.593</td>\n",
       "</tr>\n",
       "</table>\n",
       "<table class=\"simpletable\">\n",
       "<tr>\n",
       "  <th>Omnibus:</th>       <td> 1.356</td> <th>  Durbin-Watson:     </th> <td>   1.553</td>\n",
       "</tr>\n",
       "<tr>\n",
       "  <th>Prob(Omnibus):</th> <td> 0.508</td> <th>  Jarque-Bera (JB):  </th> <td>   1.362</td>\n",
       "</tr>\n",
       "<tr>\n",
       "  <th>Skew:</th>          <td> 0.326</td> <th>  Prob(JB):          </th> <td>   0.506</td>\n",
       "</tr>\n",
       "<tr>\n",
       "  <th>Kurtosis:</th>      <td> 2.521</td> <th>  Cond. No.          </th> <td>    1.00</td>\n",
       "</tr>\n",
       "</table><br/><br/>Warnings:<br/>[1] Standard Errors assume that the covariance matrix of the errors is correctly specified."
      ],
      "text/plain": [
       "<class 'statsmodels.iolib.summary.Summary'>\n",
       "\"\"\"\n",
       "                                 OLS Regression Results                                \n",
       "=======================================================================================\n",
       "Dep. Variable:                      y   R-squared (uncentered):                   0.737\n",
       "Model:                            OLS   Adj. R-squared (uncentered):              0.731\n",
       "Method:                 Least Squares   F-statistic:                              137.1\n",
       "Date:                Mon, 11 Jan 2021   Prob (F-statistic):                    8.29e-16\n",
       "Time:                        00:55:23   Log-Likelihood:                         -146.53\n",
       "No. Observations:                  50   AIC:                                      295.1\n",
       "Df Residuals:                      49   BIC:                                      297.0\n",
       "Df Model:                           1                                                  \n",
       "Covariance Type:            nonrobust                                                  \n",
       "==============================================================================\n",
       "                 coef    std err          t      P>|t|      [0.025      0.975]\n",
       "------------------------------------------------------------------------------\n",
       "x1             1.3596      0.116     11.709      0.000       1.126       1.593\n",
       "==============================================================================\n",
       "Omnibus:                        1.356   Durbin-Watson:                   1.553\n",
       "Prob(Omnibus):                  0.508   Jarque-Bera (JB):                1.362\n",
       "Skew:                           0.326   Prob(JB):                        0.506\n",
       "Kurtosis:                       2.521   Cond. No.                         1.00\n",
       "==============================================================================\n",
       "\n",
       "Warnings:\n",
       "[1] Standard Errors assume that the covariance matrix of the errors is correctly specified.\n",
       "\"\"\""
      ]
     },
     "execution_count": 96,
     "metadata": {},
     "output_type": "execute_result"
    }
   ],
   "source": [
    "import statsmodels.api as sm\n",
    "\n",
    "import matplotlib.pyplot as plt\n",
    "import numpy as np\n",
    "import seaborn as sns\n",
    "sns.set()\n",
    "\n",
    "rng = np.random.RandomState(1)\n",
    "x = 10 * rng.rand(50)\n",
    "y = 2 * x - 5 + (4 * rng.randn(50))\n",
    "\n",
    "est = sm.OLS(y, x).fit()\n",
    "est.summary()"
   ]
  },
  {
   "cell_type": "markdown",
   "metadata": {},
   "source": [
    "We'll go over all of these numbers in the next weeks.\n",
    "\n",
    "See how the model fits:"
   ]
  },
  {
   "cell_type": "code",
   "execution_count": 97,
   "metadata": {},
   "outputs": [
    {
     "data": {
      "text/plain": [
       "[<matplotlib.lines.Line2D at 0x7fee34313b20>]"
      ]
     },
     "execution_count": 97,
     "metadata": {},
     "output_type": "execute_result"
    },
    {
     "data": {
      "image/png": "[encoded data removed]",
      "text/plain": [
       "<Figure size 432x288 with 1 Axes>"
      ]
     },
     "metadata": {},
     "output_type": "display_data"
    }
   ],
   "source": [
    "xfit = np.linspace(0, 10, 1000)\n",
    "yfit = est.predict(xfit[:, np.newaxis])\n",
    "\n",
    "plt.scatter(x, y)\n",
    "plt.plot(xfit, yfit)"
   ]
  },
  {
   "cell_type": "markdown",
   "metadata": {},
   "source": [
    "# Constant term\n",
    "\n",
    "Note that the intercept is $0$ in our model! This is because statsmodels works on matrices and all inputs, including the intercept, have to be specified.\n",
    "\n",
    "Matrix regression can be seen as finding $\\beta$ such that\n",
    "\n",
    "$$(\\beta \\cdot X - y)^2 = (\\hat{y} - y)^2$$\n",
    "\n",
    "is minimized.\n",
    "\n",
    "In the case of simple regression without an intercept, $\\beta$ is the slope. In simple regression **with an intercept**, $\\beta = [intercept, slope]$.\n",
    "\n",
    "Since this means $\\beta$ is $2 \\times 1$ then we need the matrix to be $n \\times 2$ and the first column to be a constant scale of $\\beta[0]$. \n",
    "\n",
    "The way we do this is with a column vector of ones. `sm.add_constant` makes this easy."
   ]
  },
  {
   "cell_type": "code",
   "execution_count": 98,
   "metadata": {},
   "outputs": [
    {
     "data": {
      "text/plain": [
       "array([[1.00000000e+00, 4.17022005e+00],\n",
       "       [1.00000000e+00, 7.20324493e+00],\n",
       "       [1.00000000e+00, 1.14374817e-03],\n",
       "       [1.00000000e+00, 3.02332573e+00],\n",
       "       [1.00000000e+00, 1.46755891e+00],\n",
       "       [1.00000000e+00, 9.23385948e-01],\n",
       "       [1.00000000e+00, 1.86260211e+00],\n",
       "       [1.00000000e+00, 3.45560727e+00],\n",
       "       [1.00000000e+00, 3.96767474e+00],\n",
       "       [1.00000000e+00, 5.38816734e+00],\n",
       "       [1.00000000e+00, 4.19194514e+00],\n",
       "       [1.00000000e+00, 6.85219500e+00],\n",
       "       [1.00000000e+00, 2.04452250e+00],\n",
       "       [1.00000000e+00, 8.78117436e+00],\n",
       "       [1.00000000e+00, 2.73875932e-01],\n",
       "       [1.00000000e+00, 6.70467510e+00],\n",
       "       [1.00000000e+00, 4.17304802e+00],\n",
       "       [1.00000000e+00, 5.58689828e+00],\n",
       "       [1.00000000e+00, 1.40386939e+00],\n",
       "       [1.00000000e+00, 1.98101489e+00],\n",
       "       [1.00000000e+00, 8.00744569e+00],\n",
       "       [1.00000000e+00, 9.68261576e+00],\n",
       "       [1.00000000e+00, 3.13424178e+00],\n",
       "       [1.00000000e+00, 6.92322616e+00],\n",
       "       [1.00000000e+00, 8.76389152e+00],\n",
       "       [1.00000000e+00, 8.94606664e+00],\n",
       "       [1.00000000e+00, 8.50442114e-01],\n",
       "       [1.00000000e+00, 3.90547832e-01],\n",
       "       [1.00000000e+00, 1.69830420e+00],\n",
       "       [1.00000000e+00, 8.78142503e+00],\n",
       "       [1.00000000e+00, 9.83468338e-01],\n",
       "       [1.00000000e+00, 4.21107625e+00],\n",
       "       [1.00000000e+00, 9.57889530e+00],\n",
       "       [1.00000000e+00, 5.33165285e+00],\n",
       "       [1.00000000e+00, 6.91877114e+00],\n",
       "       [1.00000000e+00, 3.15515631e+00],\n",
       "       [1.00000000e+00, 6.86500928e+00],\n",
       "       [1.00000000e+00, 8.34625672e+00],\n",
       "       [1.00000000e+00, 1.82882773e-01],\n",
       "       [1.00000000e+00, 7.50144315e+00],\n",
       "       [1.00000000e+00, 9.88861089e+00],\n",
       "       [1.00000000e+00, 7.48165654e+00],\n",
       "       [1.00000000e+00, 2.80443992e+00],\n",
       "       [1.00000000e+00, 7.89279328e+00],\n",
       "       [1.00000000e+00, 1.03226007e+00],\n",
       "       [1.00000000e+00, 4.47893526e+00],\n",
       "       [1.00000000e+00, 9.08595503e+00],\n",
       "       [1.00000000e+00, 2.93614148e+00],\n",
       "       [1.00000000e+00, 2.87775339e+00],\n",
       "       [1.00000000e+00, 1.30028572e+00]])"
      ]
     },
     "execution_count": 98,
     "metadata": {},
     "output_type": "execute_result"
    }
   ],
   "source": [
    "x = sm.add_constant(x)\n",
    "x"
   ]
  },
  {
   "cell_type": "code",
   "execution_count": 99,
   "metadata": {},
   "outputs": [
    {
     "data": {
      "text/html": [
       "<table class=\"simpletable\">\n",
       "<caption>OLS Regression Results</caption>\n",
       "<tr>\n",
       "  <th>Dep. Variable:</th>            <td>y</td>        <th>  R-squared:         </th> <td>   0.760</td>\n",
       "</tr>\n",
       "<tr>\n",
       "  <th>Model:</th>                   <td>OLS</td>       <th>  Adj. R-squared:    </th> <td>   0.755</td>\n",
       "</tr>\n",
       "<tr>\n",
       "  <th>Method:</th>             <td>Least Squares</td>  <th>  F-statistic:       </th> <td>   151.9</td>\n",
       "</tr>\n",
       "<tr>\n",
       "  <th>Date:</th>             <td>Mon, 11 Jan 2021</td> <th>  Prob (F-statistic):</th> <td>1.75e-16</td>\n",
       "</tr>\n",
       "<tr>\n",
       "  <th>Time:</th>                 <td>00:55:24</td>     <th>  Log-Likelihood:    </th> <td> -135.25</td>\n",
       "</tr>\n",
       "<tr>\n",
       "  <th>No. Observations:</th>      <td>    50</td>      <th>  AIC:               </th> <td>   274.5</td>\n",
       "</tr>\n",
       "<tr>\n",
       "  <th>Df Residuals:</th>          <td>    48</td>      <th>  BIC:               </th> <td>   278.3</td>\n",
       "</tr>\n",
       "<tr>\n",
       "  <th>Df Model:</th>              <td>     1</td>      <th>                     </th>     <td> </td>   \n",
       "</tr>\n",
       "<tr>\n",
       "  <th>Covariance Type:</th>      <td>nonrobust</td>    <th>                     </th>     <td> </td>   \n",
       "</tr>\n",
       "</table>\n",
       "<table class=\"simpletable\">\n",
       "<tr>\n",
       "    <td></td>       <th>coef</th>     <th>std err</th>      <th>t</th>      <th>P>|t|</th>  <th>[0.025</th>    <th>0.975]</th>  \n",
       "</tr>\n",
       "<tr>\n",
       "  <th>const</th> <td>   -4.9943</td> <td>    0.954</td> <td>   -5.232</td> <td> 0.000</td> <td>   -6.913</td> <td>   -3.075</td>\n",
       "</tr>\n",
       "<tr>\n",
       "  <th>x1</th>    <td>    2.1088</td> <td>    0.171</td> <td>   12.326</td> <td> 0.000</td> <td>    1.765</td> <td>    2.453</td>\n",
       "</tr>\n",
       "</table>\n",
       "<table class=\"simpletable\">\n",
       "<tr>\n",
       "  <th>Omnibus:</th>       <td> 0.058</td> <th>  Durbin-Watson:     </th> <td>   1.590</td>\n",
       "</tr>\n",
       "<tr>\n",
       "  <th>Prob(Omnibus):</th> <td> 0.971</td> <th>  Jarque-Bera (JB):  </th> <td>   0.057</td>\n",
       "</tr>\n",
       "<tr>\n",
       "  <th>Skew:</th>          <td> 0.048</td> <th>  Prob(JB):          </th> <td>   0.972</td>\n",
       "</tr>\n",
       "<tr>\n",
       "  <th>Kurtosis:</th>      <td> 2.865</td> <th>  Cond. No.          </th> <td>    10.4</td>\n",
       "</tr>\n",
       "</table><br/><br/>Warnings:<br/>[1] Standard Errors assume that the covariance matrix of the errors is correctly specified."
      ],
      "text/plain": [
       "<class 'statsmodels.iolib.summary.Summary'>\n",
       "\"\"\"\n",
       "                            OLS Regression Results                            \n",
       "==============================================================================\n",
       "Dep. Variable:                      y   R-squared:                       0.760\n",
       "Model:                            OLS   Adj. R-squared:                  0.755\n",
       "Method:                 Least Squares   F-statistic:                     151.9\n",
       "Date:                Mon, 11 Jan 2021   Prob (F-statistic):           1.75e-16\n",
       "Time:                        00:55:24   Log-Likelihood:                -135.25\n",
       "No. Observations:                  50   AIC:                             274.5\n",
       "Df Residuals:                      48   BIC:                             278.3\n",
       "Df Model:                           1                                         \n",
       "Covariance Type:            nonrobust                                         \n",
       "==============================================================================\n",
       "                 coef    std err          t      P>|t|      [0.025      0.975]\n",
       "------------------------------------------------------------------------------\n",
       "const         -4.9943      0.954     -5.232      0.000      -6.913      -3.075\n",
       "x1             2.1088      0.171     12.326      0.000       1.765       2.453\n",
       "==============================================================================\n",
       "Omnibus:                        0.058   Durbin-Watson:                   1.590\n",
       "Prob(Omnibus):                  0.971   Jarque-Bera (JB):                0.057\n",
       "Skew:                           0.048   Prob(JB):                        0.972\n",
       "Kurtosis:                       2.865   Cond. No.                         10.4\n",
       "==============================================================================\n",
       "\n",
       "Warnings:\n",
       "[1] Standard Errors assume that the covariance matrix of the errors is correctly specified.\n",
       "\"\"\""
      ]
     },
     "execution_count": 99,
     "metadata": {},
     "output_type": "execute_result"
    }
   ],
   "source": [
    "est = sm.OLS(y, x).fit()\n",
    "est.summary()"
   ]
  },
  {
   "cell_type": "code",
   "execution_count": 100,
   "metadata": {},
   "outputs": [
    {
     "data": {
      "text/plain": [
       "[<matplotlib.lines.Line2D at 0x7fee334ece20>]"
      ]
     },
     "execution_count": 100,
     "metadata": {},
     "output_type": "execute_result"
    },
    {
     "data": {
      "image/png": "[encoded data removed]",
      "text/plain": [
       "<Figure size 432x288 with 1 Axes>"
      ]
     },
     "metadata": {},
     "output_type": "display_data"
    }
   ],
   "source": [
    "xfit = np.linspace(0, 10, 1000)\n",
    "yfit = est.predict(sm.add_constant(xfit))\n",
    "\n",
    "plt.scatter(x[:, 1], y)\n",
    "plt.plot(xfit, yfit)"
   ]
  },
  {
   "cell_type": "markdown",
   "metadata": {},
   "source": [
    "# Matrix form regression\n",
    "\n",
    "We can solve for the procedure for finding $\\beta$. You don't need to understand everything here, but we'll quickly run through the procedure. Set up the minimum problem to find $\\beta$ that minimizes:\n",
    "\n",
    "$$ min_\\beta (\\beta \\cdot X - y)^2$$\n",
    "\n",
    "The first derivative is set to zero to find the minimum point in the equation:\n",
    "\n",
    "$$ X^T(\\beta \\cdot X - y) = 0$$\n",
    "\n",
    "Which gives\n",
    "\n",
    "$$ X^TX\\beta = X^Ty$$\n",
    "\n",
    "Solving for $\\beta$:\n",
    "\n",
    "$$\\beta = (X^TX)^{-1}X^Ty$$\n",
    "\n",
    "**NOTE:** Ordinary least squares is the only problem where we have a closed solution for $\\beta$. We call it the \"normal equation\" because of it. "
   ]
  },
  {
   "cell_type": "code",
   "execution_count": 101,
   "metadata": {},
   "outputs": [
    {
     "data": {
      "text/plain": [
       "array([-4.99430834,  2.10883524])"
      ]
     },
     "execution_count": 101,
     "metadata": {},
     "output_type": "execute_result"
    }
   ],
   "source": [
    "# Returns array with [intercept, slope]\n",
    "X = x.copy()\n",
    "\n",
    "beta = np.linalg.inv(X.T.dot(X)).dot(X.T.dot(y))\n",
    "beta"
   ]
  },
  {
   "cell_type": "markdown",
   "metadata": {},
   "source": [
    "## Basis Function Regression\n",
    "\n",
    "One trick you can use to adapt linear regression to nonlinear relationships between variables is to transform the data according to *basis functions*.\n",
    "\n",
    "The idea is to take our linear model:\n",
    "$$\n",
    "y = a_0 + a_1 x_1 + a_2 x_2 + a_3 x_3 + \\cdots\n",
    "$$\n",
    "and build the $x_1, x_2, x_3,$ and so on, from our single-dimensional input $x$.\n",
    "That is, we let $x_n = f_n(x)$, where $f_n()$ is some function that transforms our data.\n",
    "\n",
    "For example, if $f_n(x) = x^n$, our model becomes a polynomial regression:\n",
    "$$\n",
    "y = a_0 + a_1 x + a_2 x^2 + a_3 x^3 + \\cdots\n",
    "$$\n",
    "Notice that this is *still a linear model*—the linearity refers to the fact that the coefficients $a_n$ never multiply or divide each other.\n",
    "What we have effectively done is taken our one-dimensional $x$ values and projected them into a higher dimension, so that a linear fit can fit more complicated relationships between $x$ and $y$."
   ]
  },
  {
   "cell_type": "code",
   "execution_count": 108,
   "metadata": {},
   "outputs": [
    {
     "data": {
      "image/png": "[encoded data removed]",
      "text/plain": [
       "<Figure size 432x288 with 1 Axes>"
      ]
     },
     "metadata": {},
     "output_type": "display_data"
    }
   ],
   "source": [
    "x = 10 * rng.rand(50)\n",
    "y = np.square(2 * x - 5 + (4 * rng.randn(50)))\n",
    "\n",
    "x = sm.add_constant(x)\n",
    "\n",
    "est = sm.OLS(y, x).fit()\n",
    "\n",
    "xfit = sm.add_constant(np.linspace(0, 10, 1000))\n",
    "yfit = est.predict(xfit[:, np.newaxis])\n",
    "\n",
    "fig, ax = plt.subplots()\n",
    "ax.scatter(x[:,1], y)\n",
    "ax.plot(xfit[:,1], yfit)\n",
    "plt.show()\n"
   ]
  },
  {
   "cell_type": "markdown",
   "metadata": {},
   "source": [
    "### With Squared Feature\n",
    "\n",
    "We can add a third term to the matrix"
   ]
  },
  {
   "cell_type": "code",
   "execution_count": 109,
   "metadata": {
    "scrolled": false
   },
   "outputs": [
    {
     "data": {
      "text/plain": [
       "array([[1.00000000e+00, 8.44734445e+00, 7.13576283e+01],\n",
       "       [1.00000000e+00, 9.05392319e+00, 8.19735251e+01],\n",
       "       [1.00000000e+00, 4.59880266e+00, 2.11489859e+01],\n",
       "       [1.00000000e+00, 5.46346816e+00, 2.98494843e+01],\n",
       "       [1.00000000e+00, 7.98603591e+00, 6.37767696e+01],\n",
       "       [1.00000000e+00, 2.85718852e+00, 8.16352622e+00],\n",
       "       [1.00000000e+00, 4.90253523e+00, 2.40348516e+01],\n",
       "       [1.00000000e+00, 5.99110308e+00, 3.58933161e+01],\n",
       "       [1.00000000e+00, 1.55332756e-01, 2.41282649e-02],\n",
       "       [1.00000000e+00, 5.93481408e+00, 3.52220182e+01],\n",
       "       [1.00000000e+00, 4.33676349e+00, 1.88075176e+01],\n",
       "       [1.00000000e+00, 8.07360529e+00, 6.51831024e+01],\n",
       "       [1.00000000e+00, 3.15244803e+00, 9.93792859e+00],\n",
       "       [1.00000000e+00, 8.92888709e+00, 7.97250246e+01],\n",
       "       [1.00000000e+00, 5.77857215e+00, 3.33918961e+01],\n",
       "       [1.00000000e+00, 1.84010202e+00, 3.38597543e+00],\n",
       "       [1.00000000e+00, 7.87929234e+00, 6.20832478e+01],\n",
       "       [1.00000000e+00, 6.12031177e+00, 3.74582162e+01],\n",
       "       [1.00000000e+00, 5.39092721e-01, 2.90620962e-01],\n",
       "       [1.00000000e+00, 4.20193680e+00, 1.76562729e+01],\n",
       "       [1.00000000e+00, 6.79068837e+00, 4.61134485e+01],\n",
       "       [1.00000000e+00, 9.18601778e+00, 8.43829227e+01],\n",
       "       [1.00000000e+00, 4.02024891e-03, 1.61624013e-05],\n",
       "       [1.00000000e+00, 9.76759149e+00, 9.54058435e+01],\n",
       "       [1.00000000e+00, 3.76580315e+00, 1.41812733e+01],\n",
       "       [1.00000000e+00, 9.73783538e+00, 9.48254380e+01],\n",
       "       [1.00000000e+00, 6.04716101e+00, 3.65681563e+01],\n",
       "       [1.00000000e+00, 8.28845808e+00, 6.86985373e+01],\n",
       "       [1.00000000e+00, 5.74711505e+00, 3.30293314e+01],\n",
       "       [1.00000000e+00, 6.28076198e+00, 3.94479711e+01],\n",
       "       [1.00000000e+00, 2.85576282e+00, 8.15538127e+00],\n",
       "       [1.00000000e+00, 5.86833341e+00, 3.44373370e+01],\n",
       "       [1.00000000e+00, 7.50021764e+00, 5.62532646e+01],\n",
       "       [1.00000000e+00, 8.58313836e+00, 7.36702642e+01],\n",
       "       [1.00000000e+00, 7.55082188e+00, 5.70149111e+01],\n",
       "       [1.00000000e+00, 6.98057248e+00, 4.87283922e+01],\n",
       "       [1.00000000e+00, 8.64479430e+00, 7.47324685e+01],\n",
       "       [1.00000000e+00, 3.22680997e+00, 1.04123026e+01],\n",
       "       [1.00000000e+00, 6.70788791e+00, 4.49957602e+01],\n",
       "       [1.00000000e+00, 4.50873936e+00, 2.03287307e+01],\n",
       "       [1.00000000e+00, 3.82102752e+00, 1.46002513e+01],\n",
       "       [1.00000000e+00, 4.10811350e+00, 1.68765965e+01],\n",
       "       [1.00000000e+00, 4.01479583e+00, 1.61185856e+01],\n",
       "       [1.00000000e+00, 3.17383946e+00, 1.00732569e+01],\n",
       "       [1.00000000e+00, 6.21919368e+00, 3.86783700e+01],\n",
       "       [1.00000000e+00, 4.30247271e+00, 1.85112714e+01],\n",
       "       [1.00000000e+00, 9.73802078e+00, 9.48290487e+01],\n",
       "       [1.00000000e+00, 6.77800891e+00, 4.59414048e+01],\n",
       "       [1.00000000e+00, 1.98569888e+00, 3.94300006e+00],\n",
       "       [1.00000000e+00, 4.26701009e+00, 1.82073751e+01]])"
      ]
     },
     "execution_count": 109,
     "metadata": {},
     "output_type": "execute_result"
    }
   ],
   "source": [
    "x = sm.add_constant(x)\n",
    "x = np.concatenate([x, np.square(x[:,1])[:, np.newaxis]], axis=1)\n",
    "x\n",
    "\n",
    "x"
   ]
  },
  {
   "cell_type": "code",
   "execution_count": 104,
   "metadata": {},
   "outputs": [
    {
     "data": {
      "text/plain": [
       "array([[ 1.        ,  0.        ],\n",
       "       [ 1.        ,  0.01001001],\n",
       "       [ 1.        ,  0.02002002],\n",
       "       ...,\n",
       "       [ 1.        ,  9.97997998],\n",
       "       [ 1.        ,  9.98998999],\n",
       "       [ 1.        , 10.        ]])"
      ]
     },
     "execution_count": 104,
     "metadata": {},
     "output_type": "execute_result"
    }
   ],
   "source": [
    "xfit = sm.add_constant(np.linspace(0, 10, 1000))\n",
    "xfit"
   ]
  },
  {
   "cell_type": "code",
   "execution_count": 105,
   "metadata": {},
   "outputs": [
    {
     "data": {
      "image/png": "[encoded data removed]",
      "text/plain": [
       "<Figure size 432x288 with 1 Axes>"
      ]
     },
     "metadata": {},
     "output_type": "display_data"
    },
    {
     "data": {
      "text/html": [
       "<table class=\"simpletable\">\n",
       "<caption>OLS Regression Results</caption>\n",
       "<tr>\n",
       "  <th>Dep. Variable:</th>            <td>y</td>        <th>  R-squared:         </th> <td>   0.581</td>\n",
       "</tr>\n",
       "<tr>\n",
       "  <th>Model:</th>                   <td>OLS</td>       <th>  Adj. R-squared:    </th> <td>   0.563</td>\n",
       "</tr>\n",
       "<tr>\n",
       "  <th>Method:</th>             <td>Least Squares</td>  <th>  F-statistic:       </th> <td>   32.52</td>\n",
       "</tr>\n",
       "<tr>\n",
       "  <th>Date:</th>             <td>Mon, 11 Jan 2021</td> <th>  Prob (F-statistic):</th> <td>1.36e-09</td>\n",
       "</tr>\n",
       "<tr>\n",
       "  <th>Time:</th>                 <td>00:55:27</td>     <th>  Log-Likelihood:    </th> <td> -280.60</td>\n",
       "</tr>\n",
       "<tr>\n",
       "  <th>No. Observations:</th>      <td>    50</td>      <th>  AIC:               </th> <td>   567.2</td>\n",
       "</tr>\n",
       "<tr>\n",
       "  <th>Df Residuals:</th>          <td>    47</td>      <th>  BIC:               </th> <td>   572.9</td>\n",
       "</tr>\n",
       "<tr>\n",
       "  <th>Df Model:</th>              <td>     2</td>      <th>                     </th>     <td> </td>   \n",
       "</tr>\n",
       "<tr>\n",
       "  <th>Covariance Type:</th>      <td>nonrobust</td>    <th>                     </th>     <td> </td>   \n",
       "</tr>\n",
       "</table>\n",
       "<table class=\"simpletable\">\n",
       "<tr>\n",
       "    <td></td>       <th>coef</th>     <th>std err</th>      <th>t</th>      <th>P>|t|</th>  <th>[0.025</th>    <th>0.975]</th>  \n",
       "</tr>\n",
       "<tr>\n",
       "  <th>const</th> <td>   40.0816</td> <td>   22.420</td> <td>    1.788</td> <td> 0.080</td> <td>   -5.021</td> <td>   85.184</td>\n",
       "</tr>\n",
       "<tr>\n",
       "  <th>x1</th>    <td>  -25.1428</td> <td>   12.470</td> <td>   -2.016</td> <td> 0.050</td> <td>  -50.230</td> <td>   -0.055</td>\n",
       "</tr>\n",
       "<tr>\n",
       "  <th>x2</th>    <td>    4.9311</td> <td>    1.290</td> <td>    3.822</td> <td> 0.000</td> <td>    2.336</td> <td>    7.527</td>\n",
       "</tr>\n",
       "</table>\n",
       "<table class=\"simpletable\">\n",
       "<tr>\n",
       "  <th>Omnibus:</th>       <td>21.411</td> <th>  Durbin-Watson:     </th> <td>   2.012</td>\n",
       "</tr>\n",
       "<tr>\n",
       "  <th>Prob(Omnibus):</th> <td> 0.000</td> <th>  Jarque-Bera (JB):  </th> <td>  39.295</td>\n",
       "</tr>\n",
       "<tr>\n",
       "  <th>Skew:</th>          <td> 1.257</td> <th>  Prob(JB):          </th> <td>2.93e-09</td>\n",
       "</tr>\n",
       "<tr>\n",
       "  <th>Kurtosis:</th>      <td> 6.542</td> <th>  Cond. No.          </th> <td>    115.</td>\n",
       "</tr>\n",
       "</table><br/><br/>Warnings:<br/>[1] Standard Errors assume that the covariance matrix of the errors is correctly specified."
      ],
      "text/plain": [
       "<class 'statsmodels.iolib.summary.Summary'>\n",
       "\"\"\"\n",
       "                            OLS Regression Results                            \n",
       "==============================================================================\n",
       "Dep. Variable:                      y   R-squared:                       0.581\n",
       "Model:                            OLS   Adj. R-squared:                  0.563\n",
       "Method:                 Least Squares   F-statistic:                     32.52\n",
       "Date:                Mon, 11 Jan 2021   Prob (F-statistic):           1.36e-09\n",
       "Time:                        00:55:27   Log-Likelihood:                -280.60\n",
       "No. Observations:                  50   AIC:                             567.2\n",
       "Df Residuals:                      47   BIC:                             572.9\n",
       "Df Model:                           2                                         \n",
       "Covariance Type:            nonrobust                                         \n",
       "==============================================================================\n",
       "                 coef    std err          t      P>|t|      [0.025      0.975]\n",
       "------------------------------------------------------------------------------\n",
       "const         40.0816     22.420      1.788      0.080      -5.021      85.184\n",
       "x1           -25.1428     12.470     -2.016      0.050     -50.230      -0.055\n",
       "x2             4.9311      1.290      3.822      0.000       2.336       7.527\n",
       "==============================================================================\n",
       "Omnibus:                       21.411   Durbin-Watson:                   2.012\n",
       "Prob(Omnibus):                  0.000   Jarque-Bera (JB):               39.295\n",
       "Skew:                           1.257   Prob(JB):                     2.93e-09\n",
       "Kurtosis:                       6.542   Cond. No.                         115.\n",
       "==============================================================================\n",
       "\n",
       "Warnings:\n",
       "[1] Standard Errors assume that the covariance matrix of the errors is correctly specified.\n",
       "\"\"\""
      ]
     },
     "execution_count": 105,
     "metadata": {},
     "output_type": "execute_result"
    }
   ],
   "source": [
    "est = sm.OLS(y, x).fit()\n",
    "\n",
    "xfit = sm.add_constant(np.linspace(0, 10, 1000))\n",
    "xfit = np.concatenate([xfit, np.square(xfit[:,1])[:, np.newaxis]], axis=1)\n",
    "yfit = est.predict(xfit[:, np.newaxis])\n",
    "\n",
    "fig, ax = plt.subplots()\n",
    "ax.scatter(x[:,1], y)\n",
    "ax.plot(xfit[:,1], yfit)\n",
    "plt.show()\n",
    "\n",
    "est.summary()"
   ]
  },
  {
   "cell_type": "markdown",
   "metadata": {},
   "source": [
    "If we add $x$ and $x^2$ to the model, we fit the **best parabola** instead of the **best line** to the data"
   ]
  },
  {
   "cell_type": "code",
   "execution_count": 85,
   "metadata": {},
   "outputs": [
    {
     "data": {
      "text/plain": [
       "array([[1.00000000e+00, 9.32595463e+00, 8.69734298e+01, 8.11110260e+02],\n",
       "       [1.00000000e+00, 6.96818161e+00, 4.85555550e+01, 3.38343926e+02],\n",
       "       [1.00000000e+00, 6.60001727e-01, 4.35602280e-01, 2.87498257e-01],\n",
       "       [1.00000000e+00, 7.55463053e+00, 5.70724424e+01, 4.31161215e+02],\n",
       "       [1.00000000e+00, 7.53876188e+00, 5.68329308e+01, 4.28449932e+02],\n",
       "       [1.00000000e+00, 9.23024536e+00, 8.51974293e+01, 7.86393176e+02],\n",
       "       [1.00000000e+00, 7.11524759e+00, 5.06267482e+01, 3.60221848e+02],\n",
       "       [1.00000000e+00, 1.24270962e+00, 1.54432720e+00, 1.91915027e+00],\n",
       "       [1.00000000e+00, 1.98801338e-01, 3.95219721e-02, 7.85702096e-03],\n",
       "       [1.00000000e+00, 2.62109869e-01, 6.87015833e-02, 1.80073630e-02],\n",
       "       [1.00000000e+00, 2.83064880e-01, 8.01257264e-02, 2.26807791e-02],\n",
       "       [1.00000000e+00, 2.46211068e+00, 6.06198898e+00, 1.49252878e+01],\n",
       "       [1.00000000e+00, 8.60027949e+00, 7.39648073e+01, 6.36118015e+02],\n",
       "       [1.00000000e+00, 5.38831064e+00, 2.90338916e+01, 1.56443627e+02],\n",
       "       [1.00000000e+00, 5.52821979e+00, 3.05612140e+01, 1.68949108e+02],\n",
       "       [1.00000000e+00, 8.42030892e+00, 7.09016024e+01, 5.97013395e+02],\n",
       "       [1.00000000e+00, 1.24173315e+00, 1.54190122e+00, 1.91462986e+00],\n",
       "       [1.00000000e+00, 2.79183679e+00, 7.79435266e+00, 2.17605605e+01],\n",
       "       [1.00000000e+00, 5.85759271e+00, 3.43113924e+01, 2.00982162e+02],\n",
       "       [1.00000000e+00, 9.69595748e+00, 9.40115915e+01, 9.11532394e+02],\n",
       "       [1.00000000e+00, 5.61030219e+00, 3.14754907e+01, 1.76587014e+02],\n",
       "       [1.00000000e+00, 1.86472894e-01, 3.47721401e-02, 6.48406158e-03],\n",
       "       [1.00000000e+00, 8.00632673e+00, 6.41012677e+01, 5.13215692e+02],\n",
       "       [1.00000000e+00, 2.32974274e+00, 5.42770123e+00, 1.26451475e+01],\n",
       "       [1.00000000e+00, 8.07105196e+00, 6.51418797e+01, 5.25763495e+02],\n",
       "       [1.00000000e+00, 3.87860644e+00, 1.50435879e+01, 5.83481570e+01],\n",
       "       [1.00000000e+00, 8.63541855e+00, 7.45704535e+01, 6.43947077e+02],\n",
       "       [1.00000000e+00, 7.47121643e+00, 5.58190749e+01, 4.17036389e+02],\n",
       "       [1.00000000e+00, 5.56240234e+00, 3.09403198e+01, 1.72102507e+02],\n",
       "       [1.00000000e+00, 1.36455226e+00, 1.86200286e+00, 2.54080021e+00],\n",
       "       [1.00000000e+00, 5.99176895e-01, 3.59012952e-01, 2.15112266e-01],\n",
       "       [1.00000000e+00, 1.21343456e+00, 1.47242343e+00, 1.78668947e+00],\n",
       "       [1.00000000e+00, 4.45518785e-01, 1.98486988e-01, 8.84296819e-02],\n",
       "       [1.00000000e+00, 1.07494129e+00, 1.15549878e+00, 1.24209335e+00],\n",
       "       [1.00000000e+00, 2.25709339e+00, 5.09447055e+00, 1.14986958e+01],\n",
       "       [1.00000000e+00, 7.12988980e+00, 5.08353286e+01, 3.62450291e+02],\n",
       "       [1.00000000e+00, 5.59716982e+00, 3.13283100e+01, 1.75349871e+02],\n",
       "       [1.00000000e+00, 1.25559802e-01, 1.57652638e-02, 1.97948339e-03],\n",
       "       [1.00000000e+00, 7.19742797e-01, 5.18029694e-01, 3.72848141e-01],\n",
       "       [1.00000000e+00, 9.67276330e+00, 9.35623499e+01, 9.05006464e+02],\n",
       "       [1.00000000e+00, 5.68100462e+00, 3.22738135e+01, 1.83347683e+02],\n",
       "       [1.00000000e+00, 2.03293235e+00, 4.13281393e+00, 8.40173111e+00],\n",
       "       [1.00000000e+00, 2.52325745e+00, 6.36682814e+00, 1.60651465e+01],\n",
       "       [1.00000000e+00, 7.43825854e+00, 5.53276901e+01, 4.11541664e+02],\n",
       "       [1.00000000e+00, 1.95429481e+00, 3.81926821e+00, 7.46397604e+00],\n",
       "       [1.00000000e+00, 5.81358927e+00, 3.37978202e+01, 1.96486645e+02],\n",
       "       [1.00000000e+00, 9.70019989e+00, 9.40938779e+01, 9.12729424e+02],\n",
       "       [1.00000000e+00, 8.46828801e+00, 7.17119019e+01, 6.07277039e+02],\n",
       "       [1.00000000e+00, 2.39847759e+00, 5.75269476e+00, 1.37977095e+01],\n",
       "       [1.00000000e+00, 4.93769714e+00, 2.43808531e+01, 1.20385269e+02]])"
      ]
     },
     "execution_count": 85,
     "metadata": {},
     "output_type": "execute_result"
    }
   ],
   "source": [
    "x = np.concatenate([x, (x[:,1] ** 3)[:, np.newaxis]], axis=1)\n",
    "x"
   ]
  },
  {
   "cell_type": "code",
   "execution_count": 86,
   "metadata": {},
   "outputs": [
    {
     "data": {
      "image/png": "[encoded data removed]",
      "text/plain": [
       "<Figure size 432x288 with 1 Axes>"
      ]
     },
     "metadata": {},
     "output_type": "display_data"
    },
    {
     "name": "stdout",
     "output_type": "stream",
     "text": [
      "(1000, 1)\n"
     ]
    },
    {
     "data": {
      "text/plain": [
       "array([ 0.        ,  0.01001001,  0.02002002,  0.03003003,  0.04004004,\n",
       "        0.05005005,  0.06006006,  0.07007007,  0.08008008,  0.09009009,\n",
       "        0.1001001 ,  0.11011011,  0.12012012,  0.13013013,  0.14014014,\n",
       "        0.15015015,  0.16016016,  0.17017017,  0.18018018,  0.19019019,\n",
       "        0.2002002 ,  0.21021021,  0.22022022,  0.23023023,  0.24024024,\n",
       "        0.25025025,  0.26026026,  0.27027027,  0.28028028,  0.29029029,\n",
       "        0.3003003 ,  0.31031031,  0.32032032,  0.33033033,  0.34034034,\n",
       "        0.35035035,  0.36036036,  0.37037037,  0.38038038,  0.39039039,\n",
       "        0.4004004 ,  0.41041041,  0.42042042,  0.43043043,  0.44044044,\n",
       "        0.45045045,  0.46046046,  0.47047047,  0.48048048,  0.49049049,\n",
       "        0.5005005 ,  0.51051051,  0.52052052,  0.53053053,  0.54054054,\n",
       "        0.55055055,  0.56056056,  0.57057057,  0.58058058,  0.59059059,\n",
       "        0.6006006 ,  0.61061061,  0.62062062,  0.63063063,  0.64064064,\n",
       "        0.65065065,  0.66066066,  0.67067067,  0.68068068,  0.69069069,\n",
       "        0.7007007 ,  0.71071071,  0.72072072,  0.73073073,  0.74074074,\n",
       "        0.75075075,  0.76076076,  0.77077077,  0.78078078,  0.79079079,\n",
       "        0.8008008 ,  0.81081081,  0.82082082,  0.83083083,  0.84084084,\n",
       "        0.85085085,  0.86086086,  0.87087087,  0.88088088,  0.89089089,\n",
       "        0.9009009 ,  0.91091091,  0.92092092,  0.93093093,  0.94094094,\n",
       "        0.95095095,  0.96096096,  0.97097097,  0.98098098,  0.99099099,\n",
       "        1.001001  ,  1.01101101,  1.02102102,  1.03103103,  1.04104104,\n",
       "        1.05105105,  1.06106106,  1.07107107,  1.08108108,  1.09109109,\n",
       "        1.1011011 ,  1.11111111,  1.12112112,  1.13113113,  1.14114114,\n",
       "        1.15115115,  1.16116116,  1.17117117,  1.18118118,  1.19119119,\n",
       "        1.2012012 ,  1.21121121,  1.22122122,  1.23123123,  1.24124124,\n",
       "        1.25125125,  1.26126126,  1.27127127,  1.28128128,  1.29129129,\n",
       "        1.3013013 ,  1.31131131,  1.32132132,  1.33133133,  1.34134134,\n",
       "        1.35135135,  1.36136136,  1.37137137,  1.38138138,  1.39139139,\n",
       "        1.4014014 ,  1.41141141,  1.42142142,  1.43143143,  1.44144144,\n",
       "        1.45145145,  1.46146146,  1.47147147,  1.48148148,  1.49149149,\n",
       "        1.5015015 ,  1.51151151,  1.52152152,  1.53153153,  1.54154154,\n",
       "        1.55155155,  1.56156156,  1.57157157,  1.58158158,  1.59159159,\n",
       "        1.6016016 ,  1.61161161,  1.62162162,  1.63163163,  1.64164164,\n",
       "        1.65165165,  1.66166166,  1.67167167,  1.68168168,  1.69169169,\n",
       "        1.7017017 ,  1.71171171,  1.72172172,  1.73173173,  1.74174174,\n",
       "        1.75175175,  1.76176176,  1.77177177,  1.78178178,  1.79179179,\n",
       "        1.8018018 ,  1.81181181,  1.82182182,  1.83183183,  1.84184184,\n",
       "        1.85185185,  1.86186186,  1.87187187,  1.88188188,  1.89189189,\n",
       "        1.9019019 ,  1.91191191,  1.92192192,  1.93193193,  1.94194194,\n",
       "        1.95195195,  1.96196196,  1.97197197,  1.98198198,  1.99199199,\n",
       "        2.002002  ,  2.01201201,  2.02202202,  2.03203203,  2.04204204,\n",
       "        2.05205205,  2.06206206,  2.07207207,  2.08208208,  2.09209209,\n",
       "        2.1021021 ,  2.11211211,  2.12212212,  2.13213213,  2.14214214,\n",
       "        2.15215215,  2.16216216,  2.17217217,  2.18218218,  2.19219219,\n",
       "        2.2022022 ,  2.21221221,  2.22222222,  2.23223223,  2.24224224,\n",
       "        2.25225225,  2.26226226,  2.27227227,  2.28228228,  2.29229229,\n",
       "        2.3023023 ,  2.31231231,  2.32232232,  2.33233233,  2.34234234,\n",
       "        2.35235235,  2.36236236,  2.37237237,  2.38238238,  2.39239239,\n",
       "        2.4024024 ,  2.41241241,  2.42242242,  2.43243243,  2.44244244,\n",
       "        2.45245245,  2.46246246,  2.47247247,  2.48248248,  2.49249249,\n",
       "        2.5025025 ,  2.51251251,  2.52252252,  2.53253253,  2.54254254,\n",
       "        2.55255255,  2.56256256,  2.57257257,  2.58258258,  2.59259259,\n",
       "        2.6026026 ,  2.61261261,  2.62262262,  2.63263263,  2.64264264,\n",
       "        2.65265265,  2.66266266,  2.67267267,  2.68268268,  2.69269269,\n",
       "        2.7027027 ,  2.71271271,  2.72272272,  2.73273273,  2.74274274,\n",
       "        2.75275275,  2.76276276,  2.77277277,  2.78278278,  2.79279279,\n",
       "        2.8028028 ,  2.81281281,  2.82282282,  2.83283283,  2.84284284,\n",
       "        2.85285285,  2.86286286,  2.87287287,  2.88288288,  2.89289289,\n",
       "        2.9029029 ,  2.91291291,  2.92292292,  2.93293293,  2.94294294,\n",
       "        2.95295295,  2.96296296,  2.97297297,  2.98298298,  2.99299299,\n",
       "        3.003003  ,  3.01301301,  3.02302302,  3.03303303,  3.04304304,\n",
       "        3.05305305,  3.06306306,  3.07307307,  3.08308308,  3.09309309,\n",
       "        3.1031031 ,  3.11311311,  3.12312312,  3.13313313,  3.14314314,\n",
       "        3.15315315,  3.16316316,  3.17317317,  3.18318318,  3.19319319,\n",
       "        3.2032032 ,  3.21321321,  3.22322322,  3.23323323,  3.24324324,\n",
       "        3.25325325,  3.26326326,  3.27327327,  3.28328328,  3.29329329,\n",
       "        3.3033033 ,  3.31331331,  3.32332332,  3.33333333,  3.34334334,\n",
       "        3.35335335,  3.36336336,  3.37337337,  3.38338338,  3.39339339,\n",
       "        3.4034034 ,  3.41341341,  3.42342342,  3.43343343,  3.44344344,\n",
       "        3.45345345,  3.46346346,  3.47347347,  3.48348348,  3.49349349,\n",
       "        3.5035035 ,  3.51351351,  3.52352352,  3.53353353,  3.54354354,\n",
       "        3.55355355,  3.56356356,  3.57357357,  3.58358358,  3.59359359,\n",
       "        3.6036036 ,  3.61361361,  3.62362362,  3.63363363,  3.64364364,\n",
       "        3.65365365,  3.66366366,  3.67367367,  3.68368368,  3.69369369,\n",
       "        3.7037037 ,  3.71371371,  3.72372372,  3.73373373,  3.74374374,\n",
       "        3.75375375,  3.76376376,  3.77377377,  3.78378378,  3.79379379,\n",
       "        3.8038038 ,  3.81381381,  3.82382382,  3.83383383,  3.84384384,\n",
       "        3.85385385,  3.86386386,  3.87387387,  3.88388388,  3.89389389,\n",
       "        3.9039039 ,  3.91391391,  3.92392392,  3.93393393,  3.94394394,\n",
       "        3.95395395,  3.96396396,  3.97397397,  3.98398398,  3.99399399,\n",
       "        4.004004  ,  4.01401401,  4.02402402,  4.03403403,  4.04404404,\n",
       "        4.05405405,  4.06406406,  4.07407407,  4.08408408,  4.09409409,\n",
       "        4.1041041 ,  4.11411411,  4.12412412,  4.13413413,  4.14414414,\n",
       "        4.15415415,  4.16416416,  4.17417417,  4.18418418,  4.19419419,\n",
       "        4.2042042 ,  4.21421421,  4.22422422,  4.23423423,  4.24424424,\n",
       "        4.25425425,  4.26426426,  4.27427427,  4.28428428,  4.29429429,\n",
       "        4.3043043 ,  4.31431431,  4.32432432,  4.33433433,  4.34434434,\n",
       "        4.35435435,  4.36436436,  4.37437437,  4.38438438,  4.39439439,\n",
       "        4.4044044 ,  4.41441441,  4.42442442,  4.43443443,  4.44444444,\n",
       "        4.45445445,  4.46446446,  4.47447447,  4.48448448,  4.49449449,\n",
       "        4.5045045 ,  4.51451451,  4.52452452,  4.53453453,  4.54454454,\n",
       "        4.55455455,  4.56456456,  4.57457457,  4.58458458,  4.59459459,\n",
       "        4.6046046 ,  4.61461461,  4.62462462,  4.63463463,  4.64464464,\n",
       "        4.65465465,  4.66466466,  4.67467467,  4.68468468,  4.69469469,\n",
       "        4.7047047 ,  4.71471471,  4.72472472,  4.73473473,  4.74474474,\n",
       "        4.75475475,  4.76476476,  4.77477477,  4.78478478,  4.79479479,\n",
       "        4.8048048 ,  4.81481481,  4.82482482,  4.83483483,  4.84484484,\n",
       "        4.85485485,  4.86486486,  4.87487487,  4.88488488,  4.89489489,\n",
       "        4.9049049 ,  4.91491491,  4.92492492,  4.93493493,  4.94494494,\n",
       "        4.95495495,  4.96496496,  4.97497497,  4.98498498,  4.99499499,\n",
       "        5.00500501,  5.01501502,  5.02502503,  5.03503504,  5.04504505,\n",
       "        5.05505506,  5.06506507,  5.07507508,  5.08508509,  5.0950951 ,\n",
       "        5.10510511,  5.11511512,  5.12512513,  5.13513514,  5.14514515,\n",
       "        5.15515516,  5.16516517,  5.17517518,  5.18518519,  5.1951952 ,\n",
       "        5.20520521,  5.21521522,  5.22522523,  5.23523524,  5.24524525,\n",
       "        5.25525526,  5.26526527,  5.27527528,  5.28528529,  5.2952953 ,\n",
       "        5.30530531,  5.31531532,  5.32532533,  5.33533534,  5.34534535,\n",
       "        5.35535536,  5.36536537,  5.37537538,  5.38538539,  5.3953954 ,\n",
       "        5.40540541,  5.41541542,  5.42542543,  5.43543544,  5.44544545,\n",
       "        5.45545546,  5.46546547,  5.47547548,  5.48548549,  5.4954955 ,\n",
       "        5.50550551,  5.51551552,  5.52552553,  5.53553554,  5.54554555,\n",
       "        5.55555556,  5.56556557,  5.57557558,  5.58558559,  5.5955956 ,\n",
       "        5.60560561,  5.61561562,  5.62562563,  5.63563564,  5.64564565,\n",
       "        5.65565566,  5.66566567,  5.67567568,  5.68568569,  5.6956957 ,\n",
       "        5.70570571,  5.71571572,  5.72572573,  5.73573574,  5.74574575,\n",
       "        5.75575576,  5.76576577,  5.77577578,  5.78578579,  5.7957958 ,\n",
       "        5.80580581,  5.81581582,  5.82582583,  5.83583584,  5.84584585,\n",
       "        5.85585586,  5.86586587,  5.87587588,  5.88588589,  5.8958959 ,\n",
       "        5.90590591,  5.91591592,  5.92592593,  5.93593594,  5.94594595,\n",
       "        5.95595596,  5.96596597,  5.97597598,  5.98598599,  5.995996  ,\n",
       "        6.00600601,  6.01601602,  6.02602603,  6.03603604,  6.04604605,\n",
       "        6.05605606,  6.06606607,  6.07607608,  6.08608609,  6.0960961 ,\n",
       "        6.10610611,  6.11611612,  6.12612613,  6.13613614,  6.14614615,\n",
       "        6.15615616,  6.16616617,  6.17617618,  6.18618619,  6.1961962 ,\n",
       "        6.20620621,  6.21621622,  6.22622623,  6.23623624,  6.24624625,\n",
       "        6.25625626,  6.26626627,  6.27627628,  6.28628629,  6.2962963 ,\n",
       "        6.30630631,  6.31631632,  6.32632633,  6.33633634,  6.34634635,\n",
       "        6.35635636,  6.36636637,  6.37637638,  6.38638639,  6.3963964 ,\n",
       "        6.40640641,  6.41641642,  6.42642643,  6.43643644,  6.44644645,\n",
       "        6.45645646,  6.46646647,  6.47647648,  6.48648649,  6.4964965 ,\n",
       "        6.50650651,  6.51651652,  6.52652653,  6.53653654,  6.54654655,\n",
       "        6.55655656,  6.56656657,  6.57657658,  6.58658659,  6.5965966 ,\n",
       "        6.60660661,  6.61661662,  6.62662663,  6.63663664,  6.64664665,\n",
       "        6.65665666,  6.66666667,  6.67667668,  6.68668669,  6.6966967 ,\n",
       "        6.70670671,  6.71671672,  6.72672673,  6.73673674,  6.74674675,\n",
       "        6.75675676,  6.76676677,  6.77677678,  6.78678679,  6.7967968 ,\n",
       "        6.80680681,  6.81681682,  6.82682683,  6.83683684,  6.84684685,\n",
       "        6.85685686,  6.86686687,  6.87687688,  6.88688689,  6.8968969 ,\n",
       "        6.90690691,  6.91691692,  6.92692693,  6.93693694,  6.94694695,\n",
       "        6.95695696,  6.96696697,  6.97697698,  6.98698699,  6.996997  ,\n",
       "        7.00700701,  7.01701702,  7.02702703,  7.03703704,  7.04704705,\n",
       "        7.05705706,  7.06706707,  7.07707708,  7.08708709,  7.0970971 ,\n",
       "        7.10710711,  7.11711712,  7.12712713,  7.13713714,  7.14714715,\n",
       "        7.15715716,  7.16716717,  7.17717718,  7.18718719,  7.1971972 ,\n",
       "        7.20720721,  7.21721722,  7.22722723,  7.23723724,  7.24724725,\n",
       "        7.25725726,  7.26726727,  7.27727728,  7.28728729,  7.2972973 ,\n",
       "        7.30730731,  7.31731732,  7.32732733,  7.33733734,  7.34734735,\n",
       "        7.35735736,  7.36736737,  7.37737738,  7.38738739,  7.3973974 ,\n",
       "        7.40740741,  7.41741742,  7.42742743,  7.43743744,  7.44744745,\n",
       "        7.45745746,  7.46746747,  7.47747748,  7.48748749,  7.4974975 ,\n",
       "        7.50750751,  7.51751752,  7.52752753,  7.53753754,  7.54754755,\n",
       "        7.55755756,  7.56756757,  7.57757758,  7.58758759,  7.5975976 ,\n",
       "        7.60760761,  7.61761762,  7.62762763,  7.63763764,  7.64764765,\n",
       "        7.65765766,  7.66766767,  7.67767768,  7.68768769,  7.6976977 ,\n",
       "        7.70770771,  7.71771772,  7.72772773,  7.73773774,  7.74774775,\n",
       "        7.75775776,  7.76776777,  7.77777778,  7.78778779,  7.7977978 ,\n",
       "        7.80780781,  7.81781782,  7.82782783,  7.83783784,  7.84784785,\n",
       "        7.85785786,  7.86786787,  7.87787788,  7.88788789,  7.8978979 ,\n",
       "        7.90790791,  7.91791792,  7.92792793,  7.93793794,  7.94794795,\n",
       "        7.95795796,  7.96796797,  7.97797798,  7.98798799,  7.997998  ,\n",
       "        8.00800801,  8.01801802,  8.02802803,  8.03803804,  8.04804805,\n",
       "        8.05805806,  8.06806807,  8.07807808,  8.08808809,  8.0980981 ,\n",
       "        8.10810811,  8.11811812,  8.12812813,  8.13813814,  8.14814815,\n",
       "        8.15815816,  8.16816817,  8.17817818,  8.18818819,  8.1981982 ,\n",
       "        8.20820821,  8.21821822,  8.22822823,  8.23823824,  8.24824825,\n",
       "        8.25825826,  8.26826827,  8.27827828,  8.28828829,  8.2982983 ,\n",
       "        8.30830831,  8.31831832,  8.32832833,  8.33833834,  8.34834835,\n",
       "        8.35835836,  8.36836837,  8.37837838,  8.38838839,  8.3983984 ,\n",
       "        8.40840841,  8.41841842,  8.42842843,  8.43843844,  8.44844845,\n",
       "        8.45845846,  8.46846847,  8.47847848,  8.48848849,  8.4984985 ,\n",
       "        8.50850851,  8.51851852,  8.52852853,  8.53853854,  8.54854855,\n",
       "        8.55855856,  8.56856857,  8.57857858,  8.58858859,  8.5985986 ,\n",
       "        8.60860861,  8.61861862,  8.62862863,  8.63863864,  8.64864865,\n",
       "        8.65865866,  8.66866867,  8.67867868,  8.68868869,  8.6986987 ,\n",
       "        8.70870871,  8.71871872,  8.72872873,  8.73873874,  8.74874875,\n",
       "        8.75875876,  8.76876877,  8.77877878,  8.78878879,  8.7987988 ,\n",
       "        8.80880881,  8.81881882,  8.82882883,  8.83883884,  8.84884885,\n",
       "        8.85885886,  8.86886887,  8.87887888,  8.88888889,  8.8988989 ,\n",
       "        8.90890891,  8.91891892,  8.92892893,  8.93893894,  8.94894895,\n",
       "        8.95895896,  8.96896897,  8.97897898,  8.98898899,  8.998999  ,\n",
       "        9.00900901,  9.01901902,  9.02902903,  9.03903904,  9.04904905,\n",
       "        9.05905906,  9.06906907,  9.07907908,  9.08908909,  9.0990991 ,\n",
       "        9.10910911,  9.11911912,  9.12912913,  9.13913914,  9.14914915,\n",
       "        9.15915916,  9.16916917,  9.17917918,  9.18918919,  9.1991992 ,\n",
       "        9.20920921,  9.21921922,  9.22922923,  9.23923924,  9.24924925,\n",
       "        9.25925926,  9.26926927,  9.27927928,  9.28928929,  9.2992993 ,\n",
       "        9.30930931,  9.31931932,  9.32932933,  9.33933934,  9.34934935,\n",
       "        9.35935936,  9.36936937,  9.37937938,  9.38938939,  9.3993994 ,\n",
       "        9.40940941,  9.41941942,  9.42942943,  9.43943944,  9.44944945,\n",
       "        9.45945946,  9.46946947,  9.47947948,  9.48948949,  9.4994995 ,\n",
       "        9.50950951,  9.51951952,  9.52952953,  9.53953954,  9.54954955,\n",
       "        9.55955956,  9.56956957,  9.57957958,  9.58958959,  9.5995996 ,\n",
       "        9.60960961,  9.61961962,  9.62962963,  9.63963964,  9.64964965,\n",
       "        9.65965966,  9.66966967,  9.67967968,  9.68968969,  9.6996997 ,\n",
       "        9.70970971,  9.71971972,  9.72972973,  9.73973974,  9.74974975,\n",
       "        9.75975976,  9.76976977,  9.77977978,  9.78978979,  9.7997998 ,\n",
       "        9.80980981,  9.81981982,  9.82982983,  9.83983984,  9.84984985,\n",
       "        9.85985986,  9.86986987,  9.87987988,  9.88988989,  9.8998999 ,\n",
       "        9.90990991,  9.91991992,  9.92992993,  9.93993994,  9.94994995,\n",
       "        9.95995996,  9.96996997,  9.97997998,  9.98998999, 10.        ])"
      ]
     },
     "execution_count": 86,
     "metadata": {},
     "output_type": "execute_result"
    }
   ],
   "source": [
    "est = sm.OLS(y, x).fit()\n",
    "\n",
    "xfit = sm.add_constant(np.linspace(0, 10, 1000))\n",
    "xfit = np.concatenate([\n",
    "    xfit, \n",
    "    np.square(xfit[:,1])[:, np.newaxis],\n",
    "    (xfit[:,1] ** 3)[:, np.newaxis]\n",
    "    ], axis=1\n",
    ")\n",
    "yfit = est.predict(xfit[:, np.newaxis])\n",
    "\n",
    "fig, ax = plt.subplots()\n",
    "ax.scatter(x[:,1], y)\n",
    "ax.plot(xfit[:,1], yfit)\n",
    "plt.show()\n",
    "\n",
    "est.summary()\n",
    "\n",
    "print(yfit.shape)\n",
    "\n",
    "\n",
    "xfit[:,1]"
   ]
  },
  {
   "cell_type": "markdown",
   "metadata": {},
   "source": [
    "# Reading P-Values in a regression table\n",
    "\n",
    "Adding a cube feature doesn't seem to do anything (see the coefficient value is very close to 0). The adjusted $R^2$ (which indicates how well the model fits to data) even went down.\n",
    "\n",
    "The $P > |t|$ column is a **t-test** result for the null hypothesis on this coefficient. We see in the squared regression, most coefficients pass the t-test, but now they all seem to fail it (so all the coefficients are not significantly differeent than 0 anymore)\n",
    "\n",
    "All of this indicates the previous model was better (we'll dive into those topics next lecture)."
   ]
  },
  {
   "cell_type": "code",
   "execution_count": null,
   "metadata": {},
   "outputs": [],
   "source": []
  },
  {
   "cell_type": "code",
   "execution_count": null,
   "metadata": {},
   "outputs": [],
   "source": []
  },
  {
   "cell_type": "code",
   "execution_count": null,
   "metadata": {},
   "outputs": [],
   "source": []
  },
  {
   "cell_type": "code",
   "execution_count": null,
   "metadata": {},
   "outputs": [],
   "source": []
  }
 ],
 "metadata": {
  "file_extension": ".py",
  "kernelspec": {
   "display_name": "Python 3",
   "language": "python",
   "name": "python3"
  },
  "language_info": {
   "codemirror_mode": {
    "name": "ipython",
    "version": 3
   },
   "file_extension": ".py",
   "mimetype": "text/x-python",
   "name": "python",
   "nbconvert_exporter": "python",
   "pygments_lexer": "ipython3",
   "version": "3.8.3"
  },
  "mimetype": "text/x-python",
  "name": "python",
  "npconvert_exporter": "python",
  "pygments_lexer": "ipython3",
  "version": 3
 },
 "nbformat": 4,
 "nbformat_minor": 2
}
